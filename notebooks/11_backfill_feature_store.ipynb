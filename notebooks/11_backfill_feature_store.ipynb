{
 "cells": [
  {
   "cell_type": "code",
   "execution_count": 1,
   "metadata": {},
   "outputs": [],
   "source": [
    "HOPSWORKS_PROJECT_NAME = 'taxi_demand_1'"
   ]
  },
  {
   "cell_type": "code",
   "execution_count": 2,
   "metadata": {},
   "outputs": [],
   "source": [
    "import os\n",
    "from dotenv import load_dotenv\n",
    "\n",
    "# set current working directory to root\n",
    "os.chdir('..')\n",
    "\n",
    "from src.paths import PARENT_DIR\n",
    "\n",
    "# load key-value pairs from .env file\n",
    "load_dotenv(PARENT_DIR /'.env')\n",
    "\n",
    "HOPSWORKS_API_KEY = os.environ['HOPSWORKS_API_KEY']"
   ]
  },
  {
   "cell_type": "code",
   "execution_count": 3,
   "metadata": {},
   "outputs": [
    {
     "name": "stdout",
     "output_type": "stream",
     "text": [
      "Loading raw data from 2022 to 2023\n",
      "File for 2022-01 already exists\n",
      "File for 2022-02 already exists\n",
      "File for 2022-03 already exists\n",
      "File for 2022-04 already exists\n",
      "File for 2022-05 already exists\n",
      "File for 2022-06 already exists\n",
      "File for 2022-07 already exists\n",
      "File for 2022-08 already exists\n",
      "File for 2022-09 already exists\n",
      "File for 2022-10 already exists\n",
      "File for 2022-11 already exists\n",
      "Could not download file for 2022-12\n",
      "Could not download file for 2023-01\n",
      "Could not download file for 2023-02\n",
      "Could not download file for 2023-03\n",
      "Could not download file for 2023-04\n",
      "Could not download file for 2023-05\n",
      "Could not download file for 2023-06\n",
      "Could not download file for 2023-07\n",
      "Could not download file for 2023-08\n",
      "Could not download file for 2023-09\n",
      "Could not download file for 2023-10\n",
      "Could not download file for 2023-11\n",
      "Could not download file for 2023-12\n"
     ]
    }
   ],
   "source": [
    "from datetime import datetime\n",
    "import pandas as pd\n",
    "from src.data import load_raw_data\n",
    "\n",
    "from_year = 2022\n",
    "to_year = 2023\n",
    "print(f'Loading raw data from {from_year} to {to_year}')\n",
    "\n",
    "rides = pd.DataFrame()\n",
    "for year in range(from_year, to_year+1):\n",
    "    rides = pd.concat([rides, load_raw_data(year)])"
   ]
  },
  {
   "cell_type": "code",
   "execution_count": 4,
   "metadata": {},
   "outputs": [
    {
     "name": "stdout",
     "output_type": "stream",
     "text": [
      "len(rides)=36255131)\n"
     ]
    }
   ],
   "source": [
    "print(f'{len(rides)=})')"
   ]
  },
  {
   "cell_type": "code",
   "execution_count": 5,
   "metadata": {},
   "outputs": [
    {
     "name": "stderr",
     "output_type": "stream",
     "text": [
      "100%|██████████| 262/262 [00:01<00:00, 173.45it/s]\n"
     ]
    }
   ],
   "source": [
    "from src.data import transform_raw_data_into_ts_data\n",
    "\n",
    "ts_data = transform_raw_data_into_ts_data(rides)"
   ]
  },
  {
   "cell_type": "code",
   "execution_count": 4,
   "metadata": {},
   "outputs": [
    {
     "ename": "ModuleNotFoundError",
     "evalue": "No module named 'hopsworks'",
     "output_type": "error",
     "traceback": [
      "\u001b[0;31m---------------------------------------------------------------------------\u001b[0m",
      "\u001b[0;31mModuleNotFoundError\u001b[0m                       Traceback (most recent call last)",
      "Cell \u001b[0;32mIn[4], line 2\u001b[0m\n\u001b[1;32m      1\u001b[0m \u001b[39m# Backfill feature store\u001b[39;00m\n\u001b[0;32m----> 2\u001b[0m \u001b[39mimport\u001b[39;00m \u001b[39mhopsworks\u001b[39;00m\n",
      "\u001b[0;31mModuleNotFoundError\u001b[0m: No module named 'hopsworks'"
     ]
    }
   ],
   "source": [
    "# Backfill feature store\n",
    "import hopsworks"
   ]
  },
  {
   "cell_type": "code",
   "execution_count": 2,
   "metadata": {},
   "outputs": [],
   "source": [
    "import lightgbm as lgb"
   ]
  },
  {
   "cell_type": "code",
   "execution_count": null,
   "metadata": {},
   "outputs": [],
   "source": []
  }
 ],
 "metadata": {
  "kernelspec": {
   "display_name": ".venv",
   "language": "python",
   "name": "python3"
  },
  "language_info": {
   "codemirror_mode": {
    "name": "ipython",
    "version": 3
   },
   "file_extension": ".py",
   "mimetype": "text/x-python",
   "name": "python",
   "nbconvert_exporter": "python",
   "pygments_lexer": "ipython3",
   "version": "3.9.6"
  },
  "orig_nbformat": 4,
  "vscode": {
   "interpreter": {
    "hash": "f5dabe88ea298251ea9438d34c08c3ec501e981d392514dd69987c643e20d0e4"
   }
  }
 },
 "nbformat": 4,
 "nbformat_minor": 2
}
