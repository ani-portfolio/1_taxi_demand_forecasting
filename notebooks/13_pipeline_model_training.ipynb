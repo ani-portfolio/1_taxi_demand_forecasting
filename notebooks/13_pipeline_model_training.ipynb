{
 "cells": [
  {
   "cell_type": "code",
   "execution_count": 1,
   "metadata": {},
   "outputs": [],
   "source": [
    "# autoreload\n",
    "%load_ext autoreload\n",
    "%autoreload 2\n",
    "\n",
    "# set current working directory\n",
    "import os\n",
    "os.chdir('..')\n",
    "\n",
    "import src.config as config"
   ]
  },
  {
   "cell_type": "code",
   "execution_count": 2,
   "metadata": {},
   "outputs": [
    {
     "name": "stdout",
     "output_type": "stream",
     "text": [
      "Connected. Call `.close()` to terminate connection gracefully.\n",
      "\n",
      "Logged in to project, explore it here https://c.app.hopsworks.ai:443/p/20648\n",
      "Connected. Call `.close()` to terminate connection gracefully.\n"
     ]
    }
   ],
   "source": [
    "# connect to hopsworks feature store\n",
    "import hopsworks\n",
    "\n",
    "# connect to project\n",
    "project = hopsworks.login(project=config.HOPSWORKS_PROJECT_NAME, api_key_value=config.HOPSWORKS_API_KEY)\n",
    "\n",
    "# connect to feature store\n",
    "feature_store = project.get_feature_store()\n",
    "\n",
    "# connect to the feature group\n",
    "feature_group = feature_store.get_or_create_feature_group(\n",
    "    name=config.FEATURE_GROUP_NAME,\n",
    "    version=config.FEATURE_GROUP_VERSION,\n",
    "    description='Time series data at hourly frequency',\n",
    "    primary_key=['pickup_datetime', 'pickup_hour'],\n",
    "    event_time='pickup_hour',)"
   ]
  },
  {
   "cell_type": "code",
   "execution_count": 3,
   "metadata": {},
   "outputs": [
    {
     "name": "stdout",
     "output_type": "stream",
     "text": [
      "Feature view already exists. Skipping creation.\n"
     ]
    }
   ],
   "source": [
    "# create feature view (if it doesn't exist)\n",
    "\n",
    "try:\n",
    "    # create feature view if it doesn't exist\n",
    "    feature_store.create_feature_view(\n",
    "        name=config.FEATURE_VIEW_NAME,\n",
    "        version=config.FEATURE_VIEW_VERSION,\n",
    "        query=feature_group.select_all()\n",
    "    )\n",
    "except:\n",
    "    print('Feature view already exists. Skipping creation.')\n",
    "\n",
    "# get feature view\n",
    "feature_view = feature_store.get_feature_view(config.FEATURE_VIEW_NAME, config.FEATURE_VIEW_VERSION)"
   ]
  },
  {
   "cell_type": "code",
   "execution_count": 4,
   "metadata": {},
   "outputs": [
    {
     "name": "stdout",
     "output_type": "stream",
     "text": [
      "2023-03-04 12:46:58,081 INFO: USE `taxi_demand_1_featurestore`\n",
      "2023-03-04 12:46:58,422 INFO: SELECT `fg0`.`pickup_hour` `pickup_hour`, `fg0`.`rides` `rides`, `fg0`.`pickup_location_id` `pickup_location_id`\n",
      "FROM `taxi_demand_1_featurestore`.`time_series_hourly_feature_group_1` `fg0`\n"
     ]
    },
    {
     "name": "stderr",
     "output_type": "stream",
     "text": [
      "UserWarning: pandas only supports SQLAlchemy connectable (engine/connection) or database string URI or sqlite3 DBAPI2 connection. Other DBAPI2 objects are not tested. Please consider using SQLAlchemy.\n",
      "VersionWarning: Incremented version to `2`.\n"
     ]
    }
   ],
   "source": [
    "ts_data, _ = feature_view.training_data(description='Time series hourly taxi rides')"
   ]
  },
  {
   "cell_type": "code",
   "execution_count": 5,
   "metadata": {},
   "outputs": [
    {
     "data": {
      "text/html": [
       "<div>\n",
       "<style scoped>\n",
       "    .dataframe tbody tr th:only-of-type {\n",
       "        vertical-align: middle;\n",
       "    }\n",
       "\n",
       "    .dataframe tbody tr th {\n",
       "        vertical-align: top;\n",
       "    }\n",
       "\n",
       "    .dataframe thead th {\n",
       "        text-align: right;\n",
       "    }\n",
       "</style>\n",
       "<table border=\"1\" class=\"dataframe\">\n",
       "  <thead>\n",
       "    <tr style=\"text-align: right;\">\n",
       "      <th></th>\n",
       "      <th>pickup_hour</th>\n",
       "      <th>rides</th>\n",
       "      <th>pickup_location_id</th>\n",
       "    </tr>\n",
       "  </thead>\n",
       "  <tbody>\n",
       "    <tr>\n",
       "      <th>2080335</th>\n",
       "      <td>2022-01-01 00:00:00</td>\n",
       "      <td>0</td>\n",
       "      <td>1</td>\n",
       "    </tr>\n",
       "    <tr>\n",
       "      <th>2207139</th>\n",
       "      <td>2022-01-01 01:00:00</td>\n",
       "      <td>0</td>\n",
       "      <td>1</td>\n",
       "    </tr>\n",
       "    <tr>\n",
       "      <th>1940894</th>\n",
       "      <td>2022-01-01 02:00:00</td>\n",
       "      <td>0</td>\n",
       "      <td>1</td>\n",
       "    </tr>\n",
       "    <tr>\n",
       "      <th>1896226</th>\n",
       "      <td>2022-01-01 03:00:00</td>\n",
       "      <td>0</td>\n",
       "      <td>1</td>\n",
       "    </tr>\n",
       "    <tr>\n",
       "      <th>1418782</th>\n",
       "      <td>2022-01-01 04:00:00</td>\n",
       "      <td>1</td>\n",
       "      <td>1</td>\n",
       "    </tr>\n",
       "    <tr>\n",
       "      <th>...</th>\n",
       "      <td>...</td>\n",
       "      <td>...</td>\n",
       "      <td>...</td>\n",
       "    </tr>\n",
       "    <tr>\n",
       "      <th>210063</th>\n",
       "      <td>2023-03-04 11:00:00</td>\n",
       "      <td>5</td>\n",
       "      <td>265</td>\n",
       "    </tr>\n",
       "    <tr>\n",
       "      <th>228628</th>\n",
       "      <td>2023-03-04 12:00:00</td>\n",
       "      <td>4</td>\n",
       "      <td>265</td>\n",
       "    </tr>\n",
       "    <tr>\n",
       "      <th>392227</th>\n",
       "      <td>2023-03-04 13:00:00</td>\n",
       "      <td>6</td>\n",
       "      <td>265</td>\n",
       "    </tr>\n",
       "    <tr>\n",
       "      <th>197414</th>\n",
       "      <td>2023-03-04 14:00:00</td>\n",
       "      <td>7</td>\n",
       "      <td>265</td>\n",
       "    </tr>\n",
       "    <tr>\n",
       "      <th>212973</th>\n",
       "      <td>2023-03-04 15:00:00</td>\n",
       "      <td>4</td>\n",
       "      <td>265</td>\n",
       "    </tr>\n",
       "  </tbody>\n",
       "</table>\n",
       "<p>2271552 rows × 3 columns</p>\n",
       "</div>"
      ],
      "text/plain": [
       "                pickup_hour  rides  pickup_location_id\n",
       "2080335 2022-01-01 00:00:00      0                   1\n",
       "2207139 2022-01-01 01:00:00      0                   1\n",
       "1940894 2022-01-01 02:00:00      0                   1\n",
       "1896226 2022-01-01 03:00:00      0                   1\n",
       "1418782 2022-01-01 04:00:00      1                   1\n",
       "...                     ...    ...                 ...\n",
       "210063  2023-03-04 11:00:00      5                 265\n",
       "228628  2023-03-04 12:00:00      4                 265\n",
       "392227  2023-03-04 13:00:00      6                 265\n",
       "197414  2023-03-04 14:00:00      7                 265\n",
       "212973  2023-03-04 15:00:00      4                 265\n",
       "\n",
       "[2271552 rows x 3 columns]"
      ]
     },
     "execution_count": 5,
     "metadata": {},
     "output_type": "execute_result"
    }
   ],
   "source": [
    "ts_data.sort_values(by=['pickup_location_id', 'pickup_hour'], inplace=True)\n",
    "ts_data"
   ]
  },
  {
   "cell_type": "code",
   "execution_count": 6,
   "metadata": {},
   "outputs": [
    {
     "name": "stderr",
     "output_type": "stream",
     "text": [
      "100%|██████████| 262/262 [10:19<00:00,  2.36s/it]\n"
     ]
    },
    {
     "name": "stdout",
     "output_type": "stream",
     "text": [
      "features_and_target.shape=(91107, 675)\n"
     ]
    }
   ],
   "source": [
    "from src.data import create_ts_dataset\n",
    "\n",
    "features, targets = create_ts_dataset(\n",
    "    ts_data,\n",
    "    n_features=24*28, # 1 month\n",
    "    step_size=23)\n",
    "\n",
    "features_and_target = features.copy()\n",
    "features_and_target['target_rides_next_hour'] = targets\n",
    "\n",
    "print(f'{features_and_target.shape=}')"
   ]
  },
  {
   "cell_type": "code",
   "execution_count": 7,
   "metadata": {},
   "outputs": [
    {
     "name": "stdout",
     "output_type": "stream",
     "text": [
      "cutoff_date=Timestamp('2023-02-04 00:00:00')\n",
      "X_train.shape=(83658, 674)\n",
      "y_train.shape=(83658,)\n",
      "X_test.shape=(7449, 674)\n",
      "y_test.shape=(7449,)\n"
     ]
    }
   ],
   "source": [
    "from datetime import date, timedelta\n",
    "from pytz import timezone\n",
    "import pandas as pd\n",
    "from src.data_split import train_test_split\n",
    "\n",
    "# training data range: January 2022 to Current Date - 1 month\n",
    "# test data range: Current Date - 1 month to Current Date\n",
    "cutoff_date = pd.to_datetime(date.today() - timedelta(days=28))\n",
    "\n",
    "print(f'{cutoff_date=}')\n",
    "\n",
    "X_train, y_train, X_test, y_test = train_test_split(\n",
    "    df=features_and_target,\n",
    "    cutoff_date=cutoff_date,\n",
    "    target_column_name='target_rides_next_hour')\n",
    "\n",
    "print(f'{X_train.shape=}')\n",
    "print(f'{y_train.shape=}')\n",
    "print(f'{X_test.shape=}')\n",
    "print(f'{y_test.shape=}')"
   ]
  },
  {
   "cell_type": "code",
   "execution_count": 8,
   "metadata": {},
   "outputs": [],
   "source": [
    "import numpy as np\n",
    "\n",
    "from sklearn.model_selection import TimeSeriesSplit\n",
    "from sklearn.metrics import mean_absolute_error\n",
    "import optuna\n",
    "\n",
    "from src import model\n",
    "\n",
    "# define objective function\n",
    "def objective(trial: optuna.trial.Trial) -> float:\n",
    "    '''Takes in hyperparameters as input, and trains a model that computes the average validation error based on TimeSeriesSplit cross validation'''\n",
    "\n",
    "    # define hyperparameters\n",
    "    params = {\n",
    "        \"num_leaves\": trial.suggest_int(\"num_leaves\", 2, 256),\n",
    "        \"colsample_bytree\": trial.suggest_float(\"colsample_bytree\", 0.2, 1.0),\n",
    "        \"subsample\": trial.suggest_float(\"subsample\", 0.2, 1.0),\n",
    "        \"min_child_samples\": trial.suggest_int(\"min_child_samples\", 3, 100),   \n",
    "    }\n",
    "\n",
    "    tss = TimeSeriesSplit(n_splits=4)\n",
    "    scores = []\n",
    "    for train_index, val_index in tss.split(X_train):\n",
    "        # split data\n",
    "        X_train_, X_val = X_train.iloc[train_index], X_train.iloc[val_index]\n",
    "        y_train_, y_val = y_train.iloc[train_index], y_train.iloc[val_index]\n",
    "\n",
    "        # create model\n",
    "        pipeline = model.get_pipeline(**params)\n",
    "\n",
    "        # fit model\n",
    "        pipeline.fit(X_train_, y_train_)\n",
    "\n",
    "        # compute validation error\n",
    "        y_pred = pipeline.predict(X_val)\n",
    "        mae = mean_absolute_error(y_val, y_pred)\n",
    "\n",
    "        scores.append(mae)\n",
    "    \n",
    "    return np.mean(scores)"
   ]
  },
  {
   "cell_type": "code",
   "execution_count": 10,
   "metadata": {},
   "outputs": [
    {
     "name": "stderr",
     "output_type": "stream",
     "text": [
      "\u001b[32m[I 2023-03-04 13:14:08,576]\u001b[0m A new study created in memory with name: lightgbm\u001b[0m\n",
      "\u001b[32m[I 2023-03-04 13:14:45,166]\u001b[0m Trial 0 finished with value: 3.1604979000753546 and parameters: {'num_leaves': 241, 'colsample_bytree': 0.7747895635208406, 'subsample': 0.7278038159065294, 'min_child_samples': 75}. Best is trial 0 with value: 3.1604979000753546.\u001b[0m\n"
     ]
    }
   ],
   "source": [
    "import warnings\n",
    "warnings.filterwarnings('ignore')\n",
    "\n",
    "# optuna study\n",
    "study = optuna.create_study(direction='minimize', study_name='lightgbm')\n",
    "study.optimize(objective, n_trials=1)"
   ]
  },
  {
   "cell_type": "code",
   "execution_count": 11,
   "metadata": {},
   "outputs": [
    {
     "name": "stdout",
     "output_type": "stream",
     "text": [
      "best_params={'num_leaves': 241, 'colsample_bytree': 0.7747895635208406, 'subsample': 0.7278038159065294, 'min_child_samples': 75}\n"
     ]
    }
   ],
   "source": [
    "# print best parameters\n",
    "best_params = study.best_trial.params\n",
    "print(f'{best_params=}')"
   ]
  },
  {
   "cell_type": "code",
   "execution_count": 12,
   "metadata": {},
   "outputs": [
    {
     "data": {
      "text/html": [
       "<style>#sk-container-id-1 {color: black;background-color: white;}#sk-container-id-1 pre{padding: 0;}#sk-container-id-1 div.sk-toggleable {background-color: white;}#sk-container-id-1 label.sk-toggleable__label {cursor: pointer;display: block;width: 100%;margin-bottom: 0;padding: 0.3em;box-sizing: border-box;text-align: center;}#sk-container-id-1 label.sk-toggleable__label-arrow:before {content: \"▸\";float: left;margin-right: 0.25em;color: #696969;}#sk-container-id-1 label.sk-toggleable__label-arrow:hover:before {color: black;}#sk-container-id-1 div.sk-estimator:hover label.sk-toggleable__label-arrow:before {color: black;}#sk-container-id-1 div.sk-toggleable__content {max-height: 0;max-width: 0;overflow: hidden;text-align: left;background-color: #f0f8ff;}#sk-container-id-1 div.sk-toggleable__content pre {margin: 0.2em;color: black;border-radius: 0.25em;background-color: #f0f8ff;}#sk-container-id-1 input.sk-toggleable__control:checked~div.sk-toggleable__content {max-height: 200px;max-width: 100%;overflow: auto;}#sk-container-id-1 input.sk-toggleable__control:checked~label.sk-toggleable__label-arrow:before {content: \"▾\";}#sk-container-id-1 div.sk-estimator input.sk-toggleable__control:checked~label.sk-toggleable__label {background-color: #d4ebff;}#sk-container-id-1 div.sk-label input.sk-toggleable__control:checked~label.sk-toggleable__label {background-color: #d4ebff;}#sk-container-id-1 input.sk-hidden--visually {border: 0;clip: rect(1px 1px 1px 1px);clip: rect(1px, 1px, 1px, 1px);height: 1px;margin: -1px;overflow: hidden;padding: 0;position: absolute;width: 1px;}#sk-container-id-1 div.sk-estimator {font-family: monospace;background-color: #f0f8ff;border: 1px dotted black;border-radius: 0.25em;box-sizing: border-box;margin-bottom: 0.5em;}#sk-container-id-1 div.sk-estimator:hover {background-color: #d4ebff;}#sk-container-id-1 div.sk-parallel-item::after {content: \"\";width: 100%;border-bottom: 1px solid gray;flex-grow: 1;}#sk-container-id-1 div.sk-label:hover label.sk-toggleable__label {background-color: #d4ebff;}#sk-container-id-1 div.sk-serial::before {content: \"\";position: absolute;border-left: 1px solid gray;box-sizing: border-box;top: 0;bottom: 0;left: 50%;z-index: 0;}#sk-container-id-1 div.sk-serial {display: flex;flex-direction: column;align-items: center;background-color: white;padding-right: 0.2em;padding-left: 0.2em;position: relative;}#sk-container-id-1 div.sk-item {position: relative;z-index: 1;}#sk-container-id-1 div.sk-parallel {display: flex;align-items: stretch;justify-content: center;background-color: white;position: relative;}#sk-container-id-1 div.sk-item::before, #sk-container-id-1 div.sk-parallel-item::before {content: \"\";position: absolute;border-left: 1px solid gray;box-sizing: border-box;top: 0;bottom: 0;left: 50%;z-index: -1;}#sk-container-id-1 div.sk-parallel-item {display: flex;flex-direction: column;z-index: 1;position: relative;background-color: white;}#sk-container-id-1 div.sk-parallel-item:first-child::after {align-self: flex-end;width: 50%;}#sk-container-id-1 div.sk-parallel-item:last-child::after {align-self: flex-start;width: 50%;}#sk-container-id-1 div.sk-parallel-item:only-child::after {width: 0;}#sk-container-id-1 div.sk-dashed-wrapped {border: 1px dashed gray;margin: 0 0.4em 0.5em 0.4em;box-sizing: border-box;padding-bottom: 0.4em;background-color: white;}#sk-container-id-1 div.sk-label label {font-family: monospace;font-weight: bold;display: inline-block;line-height: 1.2em;}#sk-container-id-1 div.sk-label-container {text-align: center;}#sk-container-id-1 div.sk-container {/* jupyter's `normalize.less` sets `[hidden] { display: none; }` but bootstrap.min.css set `[hidden] { display: none !important; }` so we also need the `!important` here to be able to override the default hidden behavior on the sphinx rendered scikit-learn.org. See: https://github.com/scikit-learn/scikit-learn/issues/21755 */display: inline-block !important;position: relative;}#sk-container-id-1 div.sk-text-repr-fallback {display: none;}</style><div id=\"sk-container-id-1\" class=\"sk-top-container\"><div class=\"sk-text-repr-fallback\"><pre>Pipeline(steps=[(&#x27;functiontransformer-1&#x27;,\n",
       "                 FunctionTransformer(func=&lt;function average_rides_last_4_weeks at 0x1309e55e0&gt;)),\n",
       "                (&#x27;functiontransformer-2&#x27;,\n",
       "                 FunctionTransformer(func=&lt;function extract_temporal_features at 0x130a6a040&gt;)),\n",
       "                (&#x27;add_latitude_and_longitude_features&#x27;,\n",
       "                 add_latitude_and_longitude_features(df_lat_lon=     LocationID   latitude  longitude\n",
       "0             1 -74.174270  40.690...\n",
       "3             4 -73.975209  40.723853\n",
       "4             5 -74.189803  40.556678\n",
       "..          ...        ...        ...\n",
       "258         256 -73.962940  40.710736\n",
       "259         259 -73.853635  40.900107\n",
       "260         260 -73.905907  40.746439\n",
       "261         261 -74.013983  40.707456\n",
       "262         262 -73.943489  40.778363\n",
       "\n",
       "[260 rows x 3 columns])),\n",
       "                (&#x27;lgbmregressor&#x27;,\n",
       "                 LGBMRegressor(colsample_bytree=0.7747895635208406,\n",
       "                               min_child_samples=75, num_leaves=241,\n",
       "                               subsample=0.7278038159065294,\n",
       "                               verbose_eval=None))])</pre><b>In a Jupyter environment, please rerun this cell to show the HTML representation or trust the notebook. <br />On GitHub, the HTML representation is unable to render, please try loading this page with nbviewer.org.</b></div><div class=\"sk-container\" hidden><div class=\"sk-item sk-dashed-wrapped\"><div class=\"sk-label-container\"><div class=\"sk-label sk-toggleable\"><input class=\"sk-toggleable__control sk-hidden--visually\" id=\"sk-estimator-id-1\" type=\"checkbox\" ><label for=\"sk-estimator-id-1\" class=\"sk-toggleable__label sk-toggleable__label-arrow\">Pipeline</label><div class=\"sk-toggleable__content\"><pre>Pipeline(steps=[(&#x27;functiontransformer-1&#x27;,\n",
       "                 FunctionTransformer(func=&lt;function average_rides_last_4_weeks at 0x1309e55e0&gt;)),\n",
       "                (&#x27;functiontransformer-2&#x27;,\n",
       "                 FunctionTransformer(func=&lt;function extract_temporal_features at 0x130a6a040&gt;)),\n",
       "                (&#x27;add_latitude_and_longitude_features&#x27;,\n",
       "                 add_latitude_and_longitude_features(df_lat_lon=     LocationID   latitude  longitude\n",
       "0             1 -74.174270  40.690...\n",
       "3             4 -73.975209  40.723853\n",
       "4             5 -74.189803  40.556678\n",
       "..          ...        ...        ...\n",
       "258         256 -73.962940  40.710736\n",
       "259         259 -73.853635  40.900107\n",
       "260         260 -73.905907  40.746439\n",
       "261         261 -74.013983  40.707456\n",
       "262         262 -73.943489  40.778363\n",
       "\n",
       "[260 rows x 3 columns])),\n",
       "                (&#x27;lgbmregressor&#x27;,\n",
       "                 LGBMRegressor(colsample_bytree=0.7747895635208406,\n",
       "                               min_child_samples=75, num_leaves=241,\n",
       "                               subsample=0.7278038159065294,\n",
       "                               verbose_eval=None))])</pre></div></div></div><div class=\"sk-serial\"><div class=\"sk-item\"><div class=\"sk-estimator sk-toggleable\"><input class=\"sk-toggleable__control sk-hidden--visually\" id=\"sk-estimator-id-2\" type=\"checkbox\" ><label for=\"sk-estimator-id-2\" class=\"sk-toggleable__label sk-toggleable__label-arrow\">FunctionTransformer</label><div class=\"sk-toggleable__content\"><pre>FunctionTransformer(func=&lt;function average_rides_last_4_weeks at 0x1309e55e0&gt;)</pre></div></div></div><div class=\"sk-item\"><div class=\"sk-estimator sk-toggleable\"><input class=\"sk-toggleable__control sk-hidden--visually\" id=\"sk-estimator-id-3\" type=\"checkbox\" ><label for=\"sk-estimator-id-3\" class=\"sk-toggleable__label sk-toggleable__label-arrow\">FunctionTransformer</label><div class=\"sk-toggleable__content\"><pre>FunctionTransformer(func=&lt;function extract_temporal_features at 0x130a6a040&gt;)</pre></div></div></div><div class=\"sk-item\"><div class=\"sk-estimator sk-toggleable\"><input class=\"sk-toggleable__control sk-hidden--visually\" id=\"sk-estimator-id-4\" type=\"checkbox\" ><label for=\"sk-estimator-id-4\" class=\"sk-toggleable__label sk-toggleable__label-arrow\">add_latitude_and_longitude_features</label><div class=\"sk-toggleable__content\"><pre>add_latitude_and_longitude_features(df_lat_lon=     LocationID   latitude  longitude\n",
       "0             1 -74.174270  40.690243\n",
       "1             2 -73.817643  40.612163\n",
       "2             3 -73.846510  40.864294\n",
       "3             4 -73.975209  40.723853\n",
       "4             5 -74.189803  40.556678\n",
       "..          ...        ...        ...\n",
       "258         256 -73.962940  40.710736\n",
       "259         259 -73.853635  40.900107\n",
       "260         260 -73.905907  40.746439\n",
       "261         261 -74.013983  40.707456\n",
       "262         262 -73.943489  40.778363\n",
       "\n",
       "[260 rows x 3 columns])</pre></div></div></div><div class=\"sk-item\"><div class=\"sk-estimator sk-toggleable\"><input class=\"sk-toggleable__control sk-hidden--visually\" id=\"sk-estimator-id-5\" type=\"checkbox\" ><label for=\"sk-estimator-id-5\" class=\"sk-toggleable__label sk-toggleable__label-arrow\">LGBMRegressor</label><div class=\"sk-toggleable__content\"><pre>LGBMRegressor(colsample_bytree=0.7747895635208406, min_child_samples=75,\n",
       "              num_leaves=241, subsample=0.7278038159065294, verbose_eval=None)</pre></div></div></div></div></div></div></div>"
      ],
      "text/plain": [
       "Pipeline(steps=[('functiontransformer-1',\n",
       "                 FunctionTransformer(func=<function average_rides_last_4_weeks at 0x1309e55e0>)),\n",
       "                ('functiontransformer-2',\n",
       "                 FunctionTransformer(func=<function extract_temporal_features at 0x130a6a040>)),\n",
       "                ('add_latitude_and_longitude_features',\n",
       "                 add_latitude_and_longitude_features(df_lat_lon=     LocationID   latitude  longitude\n",
       "0             1 -74.174270  40.690...\n",
       "3             4 -73.975209  40.723853\n",
       "4             5 -74.189803  40.556678\n",
       "..          ...        ...        ...\n",
       "258         256 -73.962940  40.710736\n",
       "259         259 -73.853635  40.900107\n",
       "260         260 -73.905907  40.746439\n",
       "261         261 -74.013983  40.707456\n",
       "262         262 -73.943489  40.778363\n",
       "\n",
       "[260 rows x 3 columns])),\n",
       "                ('lgbmregressor',\n",
       "                 LGBMRegressor(colsample_bytree=0.7747895635208406,\n",
       "                               min_child_samples=75, num_leaves=241,\n",
       "                               subsample=0.7278038159065294,\n",
       "                               verbose_eval=None))])"
      ]
     },
     "execution_count": 12,
     "metadata": {},
     "output_type": "execute_result"
    }
   ],
   "source": [
    "# fit best params on full training set\n",
    "pipeline = model.get_pipeline(**best_params)\n",
    "pipeline.fit(X_train, y_train)"
   ]
  },
  {
   "cell_type": "code",
   "execution_count": 13,
   "metadata": {},
   "outputs": [
    {
     "name": "stdout",
     "output_type": "stream",
     "text": [
      "test_mae=5.5708\n"
     ]
    }
   ],
   "source": [
    "# compute test error on test set\n",
    "predictions = pipeline.predict(X_test)\n",
    "test_mae = mean_absolute_error(y_test, predictions)\n",
    "print(f'{test_mae=:.4f}')"
   ]
  },
  {
   "cell_type": "code",
   "execution_count": 14,
   "metadata": {},
   "outputs": [
    {
     "data": {
      "text/plain": [
       "['/Users/ani/Projects/taxi_demand_forecasting/models/model.pkl']"
      ]
     },
     "execution_count": 14,
     "metadata": {},
     "output_type": "execute_result"
    }
   ],
   "source": [
    "# save trained model\n",
    "import joblib\n",
    "from src.paths import MODELS_DIR\n",
    "\n",
    "joblib.dump(pipeline, MODELS_DIR / 'model.pkl')"
   ]
  },
  {
   "cell_type": "code",
   "execution_count": 15,
   "metadata": {},
   "outputs": [],
   "source": [
    "# define schema for hopsworks model reigistry\n",
    "from hsml.schema import Schema\n",
    "from hsml.model_schema import ModelSchema\n",
    "\n",
    "input_schema = Schema(X_train)\n",
    "output_schema = Schema(y_train)\n",
    "model_schema = ModelSchema(input_schema, output_schema)\n"
   ]
  },
  {
   "cell_type": "code",
   "execution_count": 26,
   "metadata": {},
   "outputs": [
    {
     "name": "stdout",
     "output_type": "stream",
     "text": [
      "Connected. Call `.close()` to terminate connection gracefully.\n"
     ]
    },
    {
     "data": {
      "application/vnd.jupyter.widget-view+json": {
       "model_id": "55a35c01e9294cf78481c1dded92701e",
       "version_major": 2,
       "version_minor": 0
      },
      "text/plain": [
       "  0%|          | 0/6 [00:00<?, ?it/s]"
      ]
     },
     "metadata": {},
     "output_type": "display_data"
    },
    {
     "name": "stdout",
     "output_type": "stream",
     "text": [
      "Model created, explore it at https://c.app.hopsworks.ai:443/p/20648/models/taxt_demand_forecaster_next_hour/1\n"
     ]
    },
    {
     "data": {
      "text/plain": [
       "Model(name: 'taxt_demand_forecaster_next_hour', version: 1)"
      ]
     },
     "execution_count": 26,
     "metadata": {},
     "output_type": "execute_result"
    }
   ],
   "source": [
    "os.chdir('..')\n",
    "\n",
    "# upload model to hopsworks model registry\n",
    "model_registry = project.get_model_registry()\n",
    "\n",
    "model = model_registry.sklearn.create_model(\n",
    "    name='taxt_demand_forecaster_next_hour',\n",
    "    metrics={'test_mae': test_mae},\n",
    "    description='LightGBM model that predicts the number of taxi rides in the next hour',\n",
    "    model_schema=model_schema,\n",
    "    input_example=X_train.sample()\n",
    ")\n",
    "\n",
    "model.save(MODELS_DIR / 'model.pkl')"
   ]
  }
 ],
 "metadata": {
  "kernelspec": {
   "display_name": ".venv",
   "language": "python",
   "name": "python3"
  },
  "language_info": {
   "codemirror_mode": {
    "name": "ipython",
    "version": 3
   },
   "file_extension": ".py",
   "mimetype": "text/x-python",
   "name": "python",
   "nbconvert_exporter": "python",
   "pygments_lexer": "ipython3",
   "version": "3.9.6"
  },
  "orig_nbformat": 4,
  "vscode": {
   "interpreter": {
    "hash": "f5dabe88ea298251ea9438d34c08c3ec501e981d392514dd69987c643e20d0e4"
   }
  }
 },
 "nbformat": 4,
 "nbformat_minor": 2
}
