{
 "cells": [
  {
   "cell_type": "code",
   "execution_count": 2,
   "metadata": {},
   "outputs": [],
   "source": [
    "# autoreload\n",
    "%load_ext autoreload\n",
    "%autoreload 2\n",
    "\n",
    "# set current working directory\n",
    "import os\n",
    "os.chdir(os.path.dirname(os.getcwd()))\n",
    "\n",
    "import src.config as config"
   ]
  },
  {
   "cell_type": "code",
   "execution_count": 3,
   "metadata": {},
   "outputs": [
    {
     "name": "stdout",
     "output_type": "stream",
     "text": [
      "Connected. Call `.close()` to terminate connection gracefully.\n",
      "\n",
      "Logged in to project, explore it here https://c.app.hopsworks.ai:443/p/20648\n",
      "Connected. Call `.close()` to terminate connection gracefully.\n"
     ]
    }
   ],
   "source": [
    "# connect to hopsworks feature store\n",
    "import hopsworks\n",
    "\n",
    "# connect to project\n",
    "project = hopsworks.login(project=config.HOPSWORKS_PROJECT_NAME, api_key_value=config.HOPSWORKS_API_KEY)\n",
    "\n",
    "# connect to feature store\n",
    "feature_store = project.get_feature_store()\n",
    "\n",
    "# connect to the feature group\n",
    "feature_group = feature_store.get_or_create_feature_group(\n",
    "    name=config.FEATURE_GROUP_NAME,\n",
    "    version=config.FEATURE_GROUP_VERSION,\n",
    "    description='Time series data at hourly frequency',\n",
    "    primary_key=['pickup_datetime', 'pickup_hour'],\n",
    "    event_time='pickup_hour',)"
   ]
  },
  {
   "cell_type": "code",
   "execution_count": 4,
   "metadata": {},
   "outputs": [
    {
     "name": "stdout",
     "output_type": "stream",
     "text": [
      "Feature view already exists. Skipping creation.\n"
     ]
    }
   ],
   "source": [
    "# create feature view (if it doesn't exist)\n",
    "\n",
    "try:\n",
    "    # create feature view if it doesn't exist\n",
    "    feature_store.create_feature_view(\n",
    "        name=config.FEATURE_VIEW_NAME,\n",
    "        version=config.FEATURE_VIEW_VERSION,\n",
    "        query=feature_group.select_all()\n",
    "    )\n",
    "except:\n",
    "    print('Feature view already exists. Skipping creation.')\n",
    "\n",
    "# get feature view\n",
    "feature_view = feature_store.get_feature_view(config.FEATURE_VIEW_NAME, config.FEATURE_VIEW_VERSION)"
   ]
  },
  {
   "cell_type": "code",
   "execution_count": 5,
   "metadata": {},
   "outputs": [
    {
     "name": "stdout",
     "output_type": "stream",
     "text": [
      "2023-03-05 15:12:27,073 INFO: USE `taxi_demand_1_featurestore`\n",
      "2023-03-05 15:12:27,651 INFO: SELECT `fg0`.`pickup_hour` `pickup_hour`, `fg0`.`rides` `rides`, `fg0`.`pickup_location_id` `pickup_location_id`\n",
      "FROM `taxi_demand_1_featurestore`.`time_series_hourly_feature_group_1` `fg0`\n"
     ]
    },
    {
     "name": "stderr",
     "output_type": "stream",
     "text": [
      "UserWarning: pandas only supports SQLAlchemy connectable (engine/connection) or database string URI or sqlite3 DBAPI2 connection. Other DBAPI2 objects are not tested. Please consider using SQLAlchemy.\n",
      "VersionWarning: Incremented version to `4`.\n"
     ]
    }
   ],
   "source": [
    "ts_data, _ = feature_view.training_data(description='Time series hourly taxi rides')"
   ]
  },
  {
   "cell_type": "code",
   "execution_count": 6,
   "metadata": {},
   "outputs": [
    {
     "data": {
      "text/html": [
       "<div>\n",
       "<style scoped>\n",
       "    .dataframe tbody tr th:only-of-type {\n",
       "        vertical-align: middle;\n",
       "    }\n",
       "\n",
       "    .dataframe tbody tr th {\n",
       "        vertical-align: top;\n",
       "    }\n",
       "\n",
       "    .dataframe thead th {\n",
       "        text-align: right;\n",
       "    }\n",
       "</style>\n",
       "<table border=\"1\" class=\"dataframe\">\n",
       "  <thead>\n",
       "    <tr style=\"text-align: right;\">\n",
       "      <th></th>\n",
       "      <th>pickup_hour</th>\n",
       "      <th>rides</th>\n",
       "      <th>pickup_location_id</th>\n",
       "    </tr>\n",
       "  </thead>\n",
       "  <tbody>\n",
       "    <tr>\n",
       "      <th>593229</th>\n",
       "      <td>2022-01-01 00:00:00</td>\n",
       "      <td>0</td>\n",
       "      <td>1</td>\n",
       "    </tr>\n",
       "    <tr>\n",
       "      <th>2132751</th>\n",
       "      <td>2022-01-01 01:00:00</td>\n",
       "      <td>0</td>\n",
       "      <td>1</td>\n",
       "    </tr>\n",
       "    <tr>\n",
       "      <th>1633383</th>\n",
       "      <td>2022-01-01 02:00:00</td>\n",
       "      <td>0</td>\n",
       "      <td>1</td>\n",
       "    </tr>\n",
       "    <tr>\n",
       "      <th>1514964</th>\n",
       "      <td>2022-01-01 03:00:00</td>\n",
       "      <td>0</td>\n",
       "      <td>1</td>\n",
       "    </tr>\n",
       "    <tr>\n",
       "      <th>926635</th>\n",
       "      <td>2022-01-01 04:00:00</td>\n",
       "      <td>1</td>\n",
       "      <td>1</td>\n",
       "    </tr>\n",
       "    <tr>\n",
       "      <th>...</th>\n",
       "      <td>...</td>\n",
       "      <td>...</td>\n",
       "      <td>...</td>\n",
       "    </tr>\n",
       "    <tr>\n",
       "      <th>151506</th>\n",
       "      <td>2023-03-05 11:00:00</td>\n",
       "      <td>8</td>\n",
       "      <td>265</td>\n",
       "    </tr>\n",
       "    <tr>\n",
       "      <th>131159</th>\n",
       "      <td>2023-03-05 12:00:00</td>\n",
       "      <td>8</td>\n",
       "      <td>265</td>\n",
       "    </tr>\n",
       "    <tr>\n",
       "      <th>159169</th>\n",
       "      <td>2023-03-05 13:00:00</td>\n",
       "      <td>5</td>\n",
       "      <td>265</td>\n",
       "    </tr>\n",
       "    <tr>\n",
       "      <th>171399</th>\n",
       "      <td>2023-03-05 14:00:00</td>\n",
       "      <td>11</td>\n",
       "      <td>265</td>\n",
       "    </tr>\n",
       "    <tr>\n",
       "      <th>384978</th>\n",
       "      <td>2023-03-05 15:00:00</td>\n",
       "      <td>11</td>\n",
       "      <td>265</td>\n",
       "    </tr>\n",
       "  </tbody>\n",
       "</table>\n",
       "<p>2270880 rows × 3 columns</p>\n",
       "</div>"
      ],
      "text/plain": [
       "                pickup_hour  rides  pickup_location_id\n",
       "593229  2022-01-01 00:00:00      0                   1\n",
       "2132751 2022-01-01 01:00:00      0                   1\n",
       "1633383 2022-01-01 02:00:00      0                   1\n",
       "1514964 2022-01-01 03:00:00      0                   1\n",
       "926635  2022-01-01 04:00:00      1                   1\n",
       "...                     ...    ...                 ...\n",
       "151506  2023-03-05 11:00:00      8                 265\n",
       "131159  2023-03-05 12:00:00      8                 265\n",
       "159169  2023-03-05 13:00:00      5                 265\n",
       "171399  2023-03-05 14:00:00     11                 265\n",
       "384978  2023-03-05 15:00:00     11                 265\n",
       "\n",
       "[2270880 rows x 3 columns]"
      ]
     },
     "execution_count": 6,
     "metadata": {},
     "output_type": "execute_result"
    }
   ],
   "source": [
    "ts_data.sort_values(by=['pickup_location_id', 'pickup_hour'], inplace=True)\n",
    "ts_data"
   ]
  },
  {
   "cell_type": "code",
   "execution_count": 7,
   "metadata": {},
   "outputs": [
    {
     "name": "stderr",
     "output_type": "stream",
     "text": [
      "100%|██████████| 262/262 [11:11<00:00,  2.56s/it]\n"
     ]
    },
    {
     "name": "stdout",
     "output_type": "stream",
     "text": [
      "features_and_target.shape=(91079, 675)\n"
     ]
    }
   ],
   "source": [
    "from src.data import create_ts_dataset\n",
    "\n",
    "features, targets = create_ts_dataset(\n",
    "    ts_data,\n",
    "    n_features=24*28, # 1 month\n",
    "    step_size=23)\n",
    "\n",
    "features_and_target = features.copy()\n",
    "features_and_target['target_rides_next_hour'] = targets\n",
    "\n",
    "print(f'{features_and_target.shape=}')"
   ]
  },
  {
   "cell_type": "code",
   "execution_count": 8,
   "metadata": {},
   "outputs": [
    {
     "name": "stdout",
     "output_type": "stream",
     "text": [
      "cutoff_date=Timestamp('2023-02-05 00:00:00')\n",
      "X_train.shape=(83659, 674)\n",
      "y_train.shape=(83659,)\n",
      "X_test.shape=(7420, 674)\n",
      "y_test.shape=(7420,)\n"
     ]
    }
   ],
   "source": [
    "from datetime import date, timedelta\n",
    "from pytz import timezone\n",
    "import pandas as pd\n",
    "from src.data_split import train_test_split\n",
    "\n",
    "# training data range: January 2022 to Current Date - 1 month\n",
    "# test data range: Current Date - 1 month to Current Date\n",
    "cutoff_date = pd.to_datetime(date.today() - timedelta(days=28))\n",
    "\n",
    "print(f'{cutoff_date=}')\n",
    "\n",
    "X_train, y_train, X_test, y_test = train_test_split(\n",
    "    df=features_and_target,\n",
    "    cutoff_date=cutoff_date,\n",
    "    target_column_name='target_rides_next_hour')\n",
    "\n",
    "print(f'{X_train.shape=}')\n",
    "print(f'{y_train.shape=}')\n",
    "print(f'{X_test.shape=}')\n",
    "print(f'{y_test.shape=}')"
   ]
  },
  {
   "cell_type": "code",
   "execution_count": 9,
   "metadata": {},
   "outputs": [],
   "source": [
    "import numpy as np\n",
    "\n",
    "from sklearn.model_selection import TimeSeriesSplit\n",
    "from sklearn.metrics import mean_absolute_error\n",
    "import optuna\n",
    "\n",
    "from src import model\n",
    "\n",
    "# define objective function\n",
    "def objective(trial: optuna.trial.Trial) -> float:\n",
    "    '''Takes in hyperparameters as input, and trains a model that computes the average validation error based on TimeSeriesSplit cross validation'''\n",
    "\n",
    "    # define hyperparameters\n",
    "    params = {\n",
    "        \"num_leaves\": trial.suggest_int(\"num_leaves\", 2, 256),\n",
    "        \"colsample_bytree\": trial.suggest_float(\"colsample_bytree\", 0.2, 1.0),\n",
    "        \"subsample\": trial.suggest_float(\"subsample\", 0.2, 1.0),\n",
    "        \"min_child_samples\": trial.suggest_int(\"min_child_samples\", 3, 100),   \n",
    "    }\n",
    "\n",
    "    tss = TimeSeriesSplit(n_splits=4)\n",
    "    scores = []\n",
    "    for train_index, val_index in tss.split(X_train):\n",
    "        # split data\n",
    "        X_train_, X_val = X_train.iloc[train_index], X_train.iloc[val_index]\n",
    "        y_train_, y_val = y_train.iloc[train_index], y_train.iloc[val_index]\n",
    "\n",
    "        # create model\n",
    "        pipeline = model.get_pipeline(**params)\n",
    "\n",
    "        # fit model\n",
    "        pipeline.fit(X_train_, y_train_)\n",
    "\n",
    "        # compute validation error\n",
    "        y_pred = pipeline.predict(X_val)\n",
    "        mae = mean_absolute_error(y_val, y_pred)\n",
    "\n",
    "        scores.append(mae)\n",
    "    \n",
    "    return np.mean(scores)"
   ]
  },
  {
   "cell_type": "code",
   "execution_count": 10,
   "metadata": {},
   "outputs": [
    {
     "name": "stderr",
     "output_type": "stream",
     "text": [
      "\u001b[32m[I 2023-03-05 15:29:18,582]\u001b[0m A new study created in memory with name: lightgbm\u001b[0m\n",
      "\u001b[32m[I 2023-03-05 15:29:35,970]\u001b[0m Trial 0 finished with value: 3.178742708964517 and parameters: {'num_leaves': 47, 'colsample_bytree': 0.38716207796448154, 'subsample': 0.6145990540916767, 'min_child_samples': 96}. Best is trial 0 with value: 3.178742708964517.\u001b[0m\n",
      "\u001b[32m[I 2023-03-05 15:30:08,747]\u001b[0m Trial 1 finished with value: 3.166321722250217 and parameters: {'num_leaves': 168, 'colsample_bytree': 0.5282773144964918, 'subsample': 0.22403406940430717, 'min_child_samples': 27}. Best is trial 1 with value: 3.166321722250217.\u001b[0m\n",
      "\u001b[32m[I 2023-03-05 15:30:35,125]\u001b[0m Trial 2 finished with value: 3.1413514109126943 and parameters: {'num_leaves': 122, 'colsample_bytree': 0.39208717886899147, 'subsample': 0.33071017552318854, 'min_child_samples': 62}. Best is trial 2 with value: 3.1413514109126943.\u001b[0m\n",
      "\u001b[32m[I 2023-03-05 15:30:50,896]\u001b[0m Trial 3 finished with value: 3.152496742856738 and parameters: {'num_leaves': 55, 'colsample_bytree': 0.7869098961132173, 'subsample': 0.27896638893473735, 'min_child_samples': 96}. Best is trial 2 with value: 3.1413514109126943.\u001b[0m\n",
      "\u001b[32m[I 2023-03-05 15:31:28,400]\u001b[0m Trial 4 finished with value: 3.1738261600231596 and parameters: {'num_leaves': 224, 'colsample_bytree': 0.8820145610365515, 'subsample': 0.3355877990717465, 'min_child_samples': 26}. Best is trial 2 with value: 3.1413514109126943.\u001b[0m\n",
      "\u001b[32m[I 2023-03-05 15:31:49,179]\u001b[0m Trial 5 finished with value: 3.1310885253849334 and parameters: {'num_leaves': 61, 'colsample_bytree': 0.5271507905729382, 'subsample': 0.5510044482940626, 'min_child_samples': 45}. Best is trial 5 with value: 3.1310885253849334.\u001b[0m\n",
      "\u001b[32m[I 2023-03-05 15:32:11,767]\u001b[0m Trial 6 finished with value: 3.1318277106620815 and parameters: {'num_leaves': 94, 'colsample_bytree': 0.9780619724737947, 'subsample': 0.7899860668639014, 'min_child_samples': 67}. Best is trial 5 with value: 3.1310885253849334.\u001b[0m\n",
      "\u001b[32m[I 2023-03-05 15:32:34,752]\u001b[0m Trial 7 finished with value: 3.2534207716640715 and parameters: {'num_leaves': 110, 'colsample_bytree': 0.28451512725938266, 'subsample': 0.8332331260119428, 'min_child_samples': 11}. Best is trial 5 with value: 3.1310885253849334.\u001b[0m\n",
      "\u001b[32m[I 2023-03-05 15:33:02,958]\u001b[0m Trial 8 finished with value: 3.181248079349543 and parameters: {'num_leaves': 185, 'colsample_bytree': 0.2597267176752749, 'subsample': 0.555598489233079, 'min_child_samples': 65}. Best is trial 5 with value: 3.1310885253849334.\u001b[0m\n",
      "\u001b[32m[I 2023-03-05 15:33:35,688]\u001b[0m Trial 9 finished with value: 3.1106512745735673 and parameters: {'num_leaves': 189, 'colsample_bytree': 0.8228890459776981, 'subsample': 0.2990720206912918, 'min_child_samples': 61}. Best is trial 9 with value: 3.1106512745735673.\u001b[0m\n"
     ]
    }
   ],
   "source": [
    "import warnings\n",
    "warnings.filterwarnings('ignore')\n",
    "\n",
    "# optuna study\n",
    "study = optuna.create_study(direction='minimize', study_name='lightgbm')\n",
    "study.optimize(objective, n_trials=10)"
   ]
  },
  {
   "cell_type": "code",
   "execution_count": 11,
   "metadata": {},
   "outputs": [
    {
     "name": "stdout",
     "output_type": "stream",
     "text": [
      "best_params={'num_leaves': 189, 'colsample_bytree': 0.8228890459776981, 'subsample': 0.2990720206912918, 'min_child_samples': 61}\n"
     ]
    }
   ],
   "source": [
    "# print best parameters\n",
    "best_params = study.best_trial.params\n",
    "print(f'{best_params=}')"
   ]
  },
  {
   "cell_type": "code",
   "execution_count": 12,
   "metadata": {},
   "outputs": [
    {
     "data": {
      "text/html": [
       "<style>#sk-container-id-1 {color: black;background-color: white;}#sk-container-id-1 pre{padding: 0;}#sk-container-id-1 div.sk-toggleable {background-color: white;}#sk-container-id-1 label.sk-toggleable__label {cursor: pointer;display: block;width: 100%;margin-bottom: 0;padding: 0.3em;box-sizing: border-box;text-align: center;}#sk-container-id-1 label.sk-toggleable__label-arrow:before {content: \"▸\";float: left;margin-right: 0.25em;color: #696969;}#sk-container-id-1 label.sk-toggleable__label-arrow:hover:before {color: black;}#sk-container-id-1 div.sk-estimator:hover label.sk-toggleable__label-arrow:before {color: black;}#sk-container-id-1 div.sk-toggleable__content {max-height: 0;max-width: 0;overflow: hidden;text-align: left;background-color: #f0f8ff;}#sk-container-id-1 div.sk-toggleable__content pre {margin: 0.2em;color: black;border-radius: 0.25em;background-color: #f0f8ff;}#sk-container-id-1 input.sk-toggleable__control:checked~div.sk-toggleable__content {max-height: 200px;max-width: 100%;overflow: auto;}#sk-container-id-1 input.sk-toggleable__control:checked~label.sk-toggleable__label-arrow:before {content: \"▾\";}#sk-container-id-1 div.sk-estimator input.sk-toggleable__control:checked~label.sk-toggleable__label {background-color: #d4ebff;}#sk-container-id-1 div.sk-label input.sk-toggleable__control:checked~label.sk-toggleable__label {background-color: #d4ebff;}#sk-container-id-1 input.sk-hidden--visually {border: 0;clip: rect(1px 1px 1px 1px);clip: rect(1px, 1px, 1px, 1px);height: 1px;margin: -1px;overflow: hidden;padding: 0;position: absolute;width: 1px;}#sk-container-id-1 div.sk-estimator {font-family: monospace;background-color: #f0f8ff;border: 1px dotted black;border-radius: 0.25em;box-sizing: border-box;margin-bottom: 0.5em;}#sk-container-id-1 div.sk-estimator:hover {background-color: #d4ebff;}#sk-container-id-1 div.sk-parallel-item::after {content: \"\";width: 100%;border-bottom: 1px solid gray;flex-grow: 1;}#sk-container-id-1 div.sk-label:hover label.sk-toggleable__label {background-color: #d4ebff;}#sk-container-id-1 div.sk-serial::before {content: \"\";position: absolute;border-left: 1px solid gray;box-sizing: border-box;top: 0;bottom: 0;left: 50%;z-index: 0;}#sk-container-id-1 div.sk-serial {display: flex;flex-direction: column;align-items: center;background-color: white;padding-right: 0.2em;padding-left: 0.2em;position: relative;}#sk-container-id-1 div.sk-item {position: relative;z-index: 1;}#sk-container-id-1 div.sk-parallel {display: flex;align-items: stretch;justify-content: center;background-color: white;position: relative;}#sk-container-id-1 div.sk-item::before, #sk-container-id-1 div.sk-parallel-item::before {content: \"\";position: absolute;border-left: 1px solid gray;box-sizing: border-box;top: 0;bottom: 0;left: 50%;z-index: -1;}#sk-container-id-1 div.sk-parallel-item {display: flex;flex-direction: column;z-index: 1;position: relative;background-color: white;}#sk-container-id-1 div.sk-parallel-item:first-child::after {align-self: flex-end;width: 50%;}#sk-container-id-1 div.sk-parallel-item:last-child::after {align-self: flex-start;width: 50%;}#sk-container-id-1 div.sk-parallel-item:only-child::after {width: 0;}#sk-container-id-1 div.sk-dashed-wrapped {border: 1px dashed gray;margin: 0 0.4em 0.5em 0.4em;box-sizing: border-box;padding-bottom: 0.4em;background-color: white;}#sk-container-id-1 div.sk-label label {font-family: monospace;font-weight: bold;display: inline-block;line-height: 1.2em;}#sk-container-id-1 div.sk-label-container {text-align: center;}#sk-container-id-1 div.sk-container {/* jupyter's `normalize.less` sets `[hidden] { display: none; }` but bootstrap.min.css set `[hidden] { display: none !important; }` so we also need the `!important` here to be able to override the default hidden behavior on the sphinx rendered scikit-learn.org. See: https://github.com/scikit-learn/scikit-learn/issues/21755 */display: inline-block !important;position: relative;}#sk-container-id-1 div.sk-text-repr-fallback {display: none;}</style><div id=\"sk-container-id-1\" class=\"sk-top-container\"><div class=\"sk-text-repr-fallback\"><pre>Pipeline(steps=[(&#x27;functiontransformer-1&#x27;,\n",
       "                 FunctionTransformer(func=&lt;function average_rides_last_4_weeks at 0x28d1923a0&gt;)),\n",
       "                (&#x27;functiontransformer-2&#x27;,\n",
       "                 FunctionTransformer(func=&lt;function extract_temporal_features at 0x29476db80&gt;)),\n",
       "                (&#x27;add_latitude_and_longitude_features&#x27;,\n",
       "                 add_latitude_and_longitude_features(df_lat_lon=     LocationID   latitude  longitude\n",
       "0             1 -74.174270  40.690...\n",
       "3             4 -73.975209  40.723853\n",
       "4             5 -74.189803  40.556678\n",
       "..          ...        ...        ...\n",
       "258         256 -73.962940  40.710736\n",
       "259         259 -73.853635  40.900107\n",
       "260         260 -73.905907  40.746439\n",
       "261         261 -74.013983  40.707456\n",
       "262         262 -73.943489  40.778363\n",
       "\n",
       "[260 rows x 3 columns])),\n",
       "                (&#x27;lgbmregressor&#x27;,\n",
       "                 LGBMRegressor(colsample_bytree=0.8228890459776981,\n",
       "                               min_child_samples=61, num_leaves=189,\n",
       "                               subsample=0.2990720206912918,\n",
       "                               verbose_eval=None))])</pre><b>In a Jupyter environment, please rerun this cell to show the HTML representation or trust the notebook. <br />On GitHub, the HTML representation is unable to render, please try loading this page with nbviewer.org.</b></div><div class=\"sk-container\" hidden><div class=\"sk-item sk-dashed-wrapped\"><div class=\"sk-label-container\"><div class=\"sk-label sk-toggleable\"><input class=\"sk-toggleable__control sk-hidden--visually\" id=\"sk-estimator-id-1\" type=\"checkbox\" ><label for=\"sk-estimator-id-1\" class=\"sk-toggleable__label sk-toggleable__label-arrow\">Pipeline</label><div class=\"sk-toggleable__content\"><pre>Pipeline(steps=[(&#x27;functiontransformer-1&#x27;,\n",
       "                 FunctionTransformer(func=&lt;function average_rides_last_4_weeks at 0x28d1923a0&gt;)),\n",
       "                (&#x27;functiontransformer-2&#x27;,\n",
       "                 FunctionTransformer(func=&lt;function extract_temporal_features at 0x29476db80&gt;)),\n",
       "                (&#x27;add_latitude_and_longitude_features&#x27;,\n",
       "                 add_latitude_and_longitude_features(df_lat_lon=     LocationID   latitude  longitude\n",
       "0             1 -74.174270  40.690...\n",
       "3             4 -73.975209  40.723853\n",
       "4             5 -74.189803  40.556678\n",
       "..          ...        ...        ...\n",
       "258         256 -73.962940  40.710736\n",
       "259         259 -73.853635  40.900107\n",
       "260         260 -73.905907  40.746439\n",
       "261         261 -74.013983  40.707456\n",
       "262         262 -73.943489  40.778363\n",
       "\n",
       "[260 rows x 3 columns])),\n",
       "                (&#x27;lgbmregressor&#x27;,\n",
       "                 LGBMRegressor(colsample_bytree=0.8228890459776981,\n",
       "                               min_child_samples=61, num_leaves=189,\n",
       "                               subsample=0.2990720206912918,\n",
       "                               verbose_eval=None))])</pre></div></div></div><div class=\"sk-serial\"><div class=\"sk-item\"><div class=\"sk-estimator sk-toggleable\"><input class=\"sk-toggleable__control sk-hidden--visually\" id=\"sk-estimator-id-2\" type=\"checkbox\" ><label for=\"sk-estimator-id-2\" class=\"sk-toggleable__label sk-toggleable__label-arrow\">FunctionTransformer</label><div class=\"sk-toggleable__content\"><pre>FunctionTransformer(func=&lt;function average_rides_last_4_weeks at 0x28d1923a0&gt;)</pre></div></div></div><div class=\"sk-item\"><div class=\"sk-estimator sk-toggleable\"><input class=\"sk-toggleable__control sk-hidden--visually\" id=\"sk-estimator-id-3\" type=\"checkbox\" ><label for=\"sk-estimator-id-3\" class=\"sk-toggleable__label sk-toggleable__label-arrow\">FunctionTransformer</label><div class=\"sk-toggleable__content\"><pre>FunctionTransformer(func=&lt;function extract_temporal_features at 0x29476db80&gt;)</pre></div></div></div><div class=\"sk-item\"><div class=\"sk-estimator sk-toggleable\"><input class=\"sk-toggleable__control sk-hidden--visually\" id=\"sk-estimator-id-4\" type=\"checkbox\" ><label for=\"sk-estimator-id-4\" class=\"sk-toggleable__label sk-toggleable__label-arrow\">add_latitude_and_longitude_features</label><div class=\"sk-toggleable__content\"><pre>add_latitude_and_longitude_features(df_lat_lon=     LocationID   latitude  longitude\n",
       "0             1 -74.174270  40.690243\n",
       "1             2 -73.817643  40.612163\n",
       "2             3 -73.846510  40.864294\n",
       "3             4 -73.975209  40.723853\n",
       "4             5 -74.189803  40.556678\n",
       "..          ...        ...        ...\n",
       "258         256 -73.962940  40.710736\n",
       "259         259 -73.853635  40.900107\n",
       "260         260 -73.905907  40.746439\n",
       "261         261 -74.013983  40.707456\n",
       "262         262 -73.943489  40.778363\n",
       "\n",
       "[260 rows x 3 columns])</pre></div></div></div><div class=\"sk-item\"><div class=\"sk-estimator sk-toggleable\"><input class=\"sk-toggleable__control sk-hidden--visually\" id=\"sk-estimator-id-5\" type=\"checkbox\" ><label for=\"sk-estimator-id-5\" class=\"sk-toggleable__label sk-toggleable__label-arrow\">LGBMRegressor</label><div class=\"sk-toggleable__content\"><pre>LGBMRegressor(colsample_bytree=0.8228890459776981, min_child_samples=61,\n",
       "              num_leaves=189, subsample=0.2990720206912918, verbose_eval=None)</pre></div></div></div></div></div></div></div>"
      ],
      "text/plain": [
       "Pipeline(steps=[('functiontransformer-1',\n",
       "                 FunctionTransformer(func=<function average_rides_last_4_weeks at 0x28d1923a0>)),\n",
       "                ('functiontransformer-2',\n",
       "                 FunctionTransformer(func=<function extract_temporal_features at 0x29476db80>)),\n",
       "                ('add_latitude_and_longitude_features',\n",
       "                 add_latitude_and_longitude_features(df_lat_lon=     LocationID   latitude  longitude\n",
       "0             1 -74.174270  40.690...\n",
       "3             4 -73.975209  40.723853\n",
       "4             5 -74.189803  40.556678\n",
       "..          ...        ...        ...\n",
       "258         256 -73.962940  40.710736\n",
       "259         259 -73.853635  40.900107\n",
       "260         260 -73.905907  40.746439\n",
       "261         261 -74.013983  40.707456\n",
       "262         262 -73.943489  40.778363\n",
       "\n",
       "[260 rows x 3 columns])),\n",
       "                ('lgbmregressor',\n",
       "                 LGBMRegressor(colsample_bytree=0.8228890459776981,\n",
       "                               min_child_samples=61, num_leaves=189,\n",
       "                               subsample=0.2990720206912918,\n",
       "                               verbose_eval=None))])"
      ]
     },
     "execution_count": 12,
     "metadata": {},
     "output_type": "execute_result"
    }
   ],
   "source": [
    "# fit best params on full training set\n",
    "pipeline = model.get_pipeline(**best_params)\n",
    "pipeline.fit(X_train, y_train)"
   ]
  },
  {
   "cell_type": "code",
   "execution_count": 13,
   "metadata": {},
   "outputs": [
    {
     "name": "stdout",
     "output_type": "stream",
     "text": [
      "test_mae=5.8021\n"
     ]
    }
   ],
   "source": [
    "# compute test error on test set\n",
    "predictions = pipeline.predict(X_test)\n",
    "test_mae = mean_absolute_error(y_test, predictions)\n",
    "print(f'{test_mae=:.4f}')"
   ]
  },
  {
   "cell_type": "code",
   "execution_count": 14,
   "metadata": {},
   "outputs": [
    {
     "data": {
      "text/plain": [
       "['/Users/ani/Projects/1_taxi_demand_forecasting/models/model.pkl']"
      ]
     },
     "execution_count": 14,
     "metadata": {},
     "output_type": "execute_result"
    }
   ],
   "source": [
    "# save trained model\n",
    "import joblib\n",
    "from src.paths import MODELS_DIR\n",
    "\n",
    "joblib.dump(pipeline, MODELS_DIR / 'model.pkl')"
   ]
  },
  {
   "cell_type": "code",
   "execution_count": 15,
   "metadata": {},
   "outputs": [],
   "source": [
    "# define schema for hopsworks model reigistry\n",
    "from hsml.schema import Schema\n",
    "from hsml.model_schema import ModelSchema\n",
    "\n",
    "input_schema = Schema(X_train)\n",
    "output_schema = Schema(y_train)\n",
    "model_schema = ModelSchema(input_schema, output_schema)\n"
   ]
  },
  {
   "cell_type": "code",
   "execution_count": 16,
   "metadata": {},
   "outputs": [
    {
     "name": "stdout",
     "output_type": "stream",
     "text": [
      "Connected. Call `.close()` to terminate connection gracefully.\n"
     ]
    },
    {
     "data": {
      "application/vnd.jupyter.widget-view+json": {
       "model_id": "2d425190fe2e4f3c9a084c61b2874552",
       "version_major": 2,
       "version_minor": 0
      },
      "text/plain": [
       "  0%|          | 0/6 [00:00<?, ?it/s]"
      ]
     },
     "metadata": {},
     "output_type": "display_data"
    },
    {
     "name": "stdout",
     "output_type": "stream",
     "text": [
      "Model created, explore it at https://c.app.hopsworks.ai:443/p/20648/models/taxi_demand_forecaster_next_hour/1\n"
     ]
    },
    {
     "data": {
      "text/plain": [
       "Model(name: 'taxi_demand_forecaster_next_hour', version: 1)"
      ]
     },
     "execution_count": 16,
     "metadata": {},
     "output_type": "execute_result"
    }
   ],
   "source": [
    "# upload model to hopsworks model registry\n",
    "model_registry = project.get_model_registry()\n",
    "\n",
    "model = model_registry.sklearn.create_model(\n",
    "    name='taxi_demand_forecaster_next_hour',\n",
    "    metrics={'test_mae': test_mae},\n",
    "    description='LightGBM model that predicts the number of taxi rides in the next hour',\n",
    "    model_schema=model_schema,\n",
    "    input_example=X_train.sample()\n",
    ")\n",
    "\n",
    "model.save(MODELS_DIR / 'model.pkl')"
   ]
  }
 ],
 "metadata": {
  "kernelspec": {
   "display_name": ".venv",
   "language": "python",
   "name": "python3"
  },
  "language_info": {
   "codemirror_mode": {
    "name": "ipython",
    "version": 3
   },
   "file_extension": ".py",
   "mimetype": "text/x-python",
   "name": "python",
   "nbconvert_exporter": "python",
   "pygments_lexer": "ipython3",
   "version": "3.9.6"
  },
  "orig_nbformat": 4,
  "vscode": {
   "interpreter": {
    "hash": "3adc933a9ef3d8ff20a02e749cb04e227bd9b92585087376f2b3d0c57d9ee0eb"
   }
  }
 },
 "nbformat": 4,
 "nbformat_minor": 2
}
