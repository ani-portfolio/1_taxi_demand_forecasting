{
 "cells": [
  {
   "cell_type": "code",
   "execution_count": 1,
   "metadata": {},
   "outputs": [],
   "source": [
    "# autoreload\n",
    "%load_ext autoreload\n",
    "%autoreload 2\n",
    "\n",
    "# set current working directory to root\n",
    "import os\n",
    "os.chdir('..')\n",
    "\n",
    "import src.config as config"
   ]
  },
  {
   "cell_type": "code",
   "execution_count": 9,
   "metadata": {},
   "outputs": [
    {
     "name": "stdout",
     "output_type": "stream",
     "text": [
      "current_date=Timestamp('2023-03-03 01:00:00')\n"
     ]
    }
   ],
   "source": [
    "from datetime import datetime, timedelta\n",
    "\n",
    "import pandas as pd\n",
    "\n",
    "current_date = pd.to_datetime(datetime.utcnow()).floor('H')\n",
    "print(f'{current_date=}')\n",
    "\n",
    "# fetch raw data for the last 28 days. The pipeline runs every hour, however, 28 days is a conservative number as a redundancy\n",
    "fetch_data_to = current_date\n",
    "fetch_data_from = current_date - timedelta(days=28)"
   ]
  },
  {
   "cell_type": "code",
   "execution_count": 10,
   "metadata": {},
   "outputs": [],
   "source": [
    "from src.data import load_raw_data\n",
    "\n",
    "def fetch_batch_raw_data(from_date: datetime, to_date: datetime) -> pd.DataFrame:\n",
    "    \"\"\"Fetches raw data from the database for a given time interval.\n",
    "    However, this function is only simulating production data by sampling historical data from\n",
    "    52 weeks ago. This is because recent data is not accessible.\"\"\"\n",
    "\n",
    "    from_date = from_date - timedelta(weeks=52)\n",
    "    to_date = to_date - timedelta(weeks=52)\n",
    "\n",
    "    rides = load_raw_data(year=from_date.year, months=from_date.month)\n",
    "    rides = rides[rides['pickup_datetime'] >= from_date]\n",
    "    rides_2 = load_raw_data(year=to_date.year, months=to_date.month)\n",
    "    rides_2 = rides_2[rides_2['pickup_datetime'] < to_date]\n",
    "\n",
    "    rides = pd.concat([rides, rides_2], axis=0)\n",
    "\n",
    "    # shift data to simulate current data\n",
    "    rides['pickup_datetime'] += timedelta(weeks=52)\n",
    "\n",
    "    rides.sort_values(['pickup_datetime', 'pickup_location_id'], inplace=True)\n",
    "\n",
    "    return rides"
   ]
  },
  {
   "cell_type": "code",
   "execution_count": 11,
   "metadata": {},
   "outputs": [
    {
     "name": "stdout",
     "output_type": "stream",
     "text": [
      "File for 2022-02 already exists\n",
      "File for 2022-03 already exists\n"
     ]
    }
   ],
   "source": [
    "rides = fetch_batch_raw_data(fetch_data_from, fetch_data_to)"
   ]
  },
  {
   "cell_type": "code",
   "execution_count": 12,
   "metadata": {},
   "outputs": [
    {
     "name": "stderr",
     "output_type": "stream",
     "text": [
      "100%|██████████| 255/255 [00:00<00:00, 910.20it/s]\n"
     ]
    },
    {
     "data": {
      "text/html": [
       "<div>\n",
       "<style scoped>\n",
       "    .dataframe tbody tr th:only-of-type {\n",
       "        vertical-align: middle;\n",
       "    }\n",
       "\n",
       "    .dataframe tbody tr th {\n",
       "        vertical-align: top;\n",
       "    }\n",
       "\n",
       "    .dataframe thead th {\n",
       "        text-align: right;\n",
       "    }\n",
       "</style>\n",
       "<table border=\"1\" class=\"dataframe\">\n",
       "  <thead>\n",
       "    <tr style=\"text-align: right;\">\n",
       "      <th></th>\n",
       "      <th>pickup_hour</th>\n",
       "      <th>rides</th>\n",
       "      <th>pickup_location_id</th>\n",
       "    </tr>\n",
       "  </thead>\n",
       "  <tbody>\n",
       "    <tr>\n",
       "      <th>0</th>\n",
       "      <td>2023-02-03 01:00:00</td>\n",
       "      <td>2</td>\n",
       "      <td>4</td>\n",
       "    </tr>\n",
       "    <tr>\n",
       "      <th>1</th>\n",
       "      <td>2023-02-03 02:00:00</td>\n",
       "      <td>1</td>\n",
       "      <td>4</td>\n",
       "    </tr>\n",
       "    <tr>\n",
       "      <th>2</th>\n",
       "      <td>2023-02-03 03:00:00</td>\n",
       "      <td>0</td>\n",
       "      <td>4</td>\n",
       "    </tr>\n",
       "    <tr>\n",
       "      <th>3</th>\n",
       "      <td>2023-02-03 04:00:00</td>\n",
       "      <td>1</td>\n",
       "      <td>4</td>\n",
       "    </tr>\n",
       "    <tr>\n",
       "      <th>4</th>\n",
       "      <td>2023-02-03 05:00:00</td>\n",
       "      <td>0</td>\n",
       "      <td>4</td>\n",
       "    </tr>\n",
       "    <tr>\n",
       "      <th>...</th>\n",
       "      <td>...</td>\n",
       "      <td>...</td>\n",
       "      <td>...</td>\n",
       "    </tr>\n",
       "    <tr>\n",
       "      <th>171355</th>\n",
       "      <td>2023-03-02 20:00:00</td>\n",
       "      <td>0</td>\n",
       "      <td>109</td>\n",
       "    </tr>\n",
       "    <tr>\n",
       "      <th>171356</th>\n",
       "      <td>2023-03-02 21:00:00</td>\n",
       "      <td>0</td>\n",
       "      <td>109</td>\n",
       "    </tr>\n",
       "    <tr>\n",
       "      <th>171357</th>\n",
       "      <td>2023-03-02 22:00:00</td>\n",
       "      <td>0</td>\n",
       "      <td>109</td>\n",
       "    </tr>\n",
       "    <tr>\n",
       "      <th>171358</th>\n",
       "      <td>2023-03-02 23:00:00</td>\n",
       "      <td>0</td>\n",
       "      <td>109</td>\n",
       "    </tr>\n",
       "    <tr>\n",
       "      <th>171359</th>\n",
       "      <td>2023-03-03 00:00:00</td>\n",
       "      <td>0</td>\n",
       "      <td>109</td>\n",
       "    </tr>\n",
       "  </tbody>\n",
       "</table>\n",
       "<p>171360 rows × 3 columns</p>\n",
       "</div>"
      ],
      "text/plain": [
       "               pickup_hour  rides  pickup_location_id\n",
       "0      2023-02-03 01:00:00      2                   4\n",
       "1      2023-02-03 02:00:00      1                   4\n",
       "2      2023-02-03 03:00:00      0                   4\n",
       "3      2023-02-03 04:00:00      1                   4\n",
       "4      2023-02-03 05:00:00      0                   4\n",
       "...                    ...    ...                 ...\n",
       "171355 2023-03-02 20:00:00      0                 109\n",
       "171356 2023-03-02 21:00:00      0                 109\n",
       "171357 2023-03-02 22:00:00      0                 109\n",
       "171358 2023-03-02 23:00:00      0                 109\n",
       "171359 2023-03-03 00:00:00      0                 109\n",
       "\n",
       "[171360 rows x 3 columns]"
      ]
     },
     "execution_count": 12,
     "metadata": {},
     "output_type": "execute_result"
    }
   ],
   "source": [
    "# transform raw data into time series data\n",
    "from src.data import transform_raw_data_into_ts_data\n",
    "ts_data = transform_raw_data_into_ts_data(rides)\n",
    "ts_data"
   ]
  },
  {
   "cell_type": "code",
   "execution_count": 14,
   "metadata": {},
   "outputs": [
    {
     "name": "stdout",
     "output_type": "stream",
     "text": [
      "Connected. Call `.close()` to terminate connection gracefully.\n",
      "\n",
      "Logged in to project, explore it here https://c.app.hopsworks.ai:443/p/20648\n",
      "Connected. Call `.close()` to terminate connection gracefully.\n"
     ]
    }
   ],
   "source": [
    "# connect to hopsworks feature store\n",
    "import hopsworks\n",
    "\n",
    "# connect to project\n",
    "project = hopsworks.login(project=config.HOPSWORKS_PROJECT_NAME, api_key_value=config.HOPSWORKS_API_KEY)\n",
    "\n",
    "# connect to feature store\n",
    "feature_store = project.get_feature_store()\n",
    "\n",
    "# connect to the feature group\n",
    "feature_group = feature_store.get_or_create_feature_group(\n",
    "    name=config.FEATURE_GROUP_NAME,\n",
    "    version=config.FEATURE_GROUP_VERSION,\n",
    "    description='Time series data at hourly frequency',\n",
    "    primary_key=['pickup_datetime', 'pickup_hour'],\n",
    "    event_time='pickup_hour',)"
   ]
  },
  {
   "cell_type": "code",
   "execution_count": 15,
   "metadata": {},
   "outputs": [
    {
     "data": {
      "application/vnd.jupyter.widget-view+json": {
       "model_id": "3df71d541e55417cbbe75262a0b4fecd",
       "version_major": 2,
       "version_minor": 0
      },
      "text/plain": [
       "Uploading Dataframe: 0.00% |          | Rows 0/171360 | Elapsed Time: 00:00 | Remaining Time: ?"
      ]
     },
     "metadata": {},
     "output_type": "display_data"
    },
    {
     "name": "stdout",
     "output_type": "stream",
     "text": [
      "Launching offline feature group backfill job...\n",
      "Backfill Job started successfully, you can follow the progress at \n",
      "https://c.app.hopsworks.ai/p/20648/jobs/named/time_series_hourly_feature_group_1_offline_fg_backfill/executions\n"
     ]
    },
    {
     "data": {
      "text/plain": [
       "(<hsfs.core.job.Job at 0x17f956dc0>, None)"
      ]
     },
     "execution_count": 15,
     "metadata": {},
     "output_type": "execute_result"
    }
   ],
   "source": [
    "feature_group.insert(ts_data, write_options={'wait_for_job': False})"
   ]
  },
  {
   "cell_type": "code",
   "execution_count": null,
   "metadata": {},
   "outputs": [],
   "source": []
  }
 ],
 "metadata": {
  "kernelspec": {
   "display_name": ".venv",
   "language": "python",
   "name": "python3"
  },
  "language_info": {
   "codemirror_mode": {
    "name": "ipython",
    "version": 3
   },
   "file_extension": ".py",
   "mimetype": "text/x-python",
   "name": "python",
   "nbconvert_exporter": "python",
   "pygments_lexer": "ipython3",
   "version": "3.9.6"
  },
  "orig_nbformat": 4,
  "vscode": {
   "interpreter": {
    "hash": "f5dabe88ea298251ea9438d34c08c3ec501e981d392514dd69987c643e20d0e4"
   }
  }
 },
 "nbformat": 4,
 "nbformat_minor": 2
}
