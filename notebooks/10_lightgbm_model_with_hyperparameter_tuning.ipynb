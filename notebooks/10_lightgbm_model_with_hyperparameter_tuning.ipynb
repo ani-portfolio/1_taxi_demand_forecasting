{
 "cells": [
  {
   "cell_type": "code",
   "execution_count": 1,
   "metadata": {},
   "outputs": [],
   "source": [
    "# autoreload\n",
    "%load_ext autoreload\n",
    "%autoreload 2\n",
    "\n",
    "from datetime import datetime\n",
    "import pandas as pd\n",
    "import numpy as np\n",
    "\n",
    "from sklearn.model_selection import TimeSeriesSplit\n",
    "from sklearn.metrics import mean_absolute_error\n",
    "import optuna\n",
    "\n",
    "# set current working directory to project root\n",
    "import os\n",
    "os.chdir(os.path.dirname(os.getcwd()))\n",
    "from src.paths import TRANSFORMED_DATA_DIR\n",
    "from src import data_split\n",
    "from src import model\n",
    "from src import plot"
   ]
  },
  {
   "cell_type": "code",
   "execution_count": 2,
   "metadata": {},
   "outputs": [
    {
     "data": {
      "text/html": [
       "<div>\n",
       "<style scoped>\n",
       "    .dataframe tbody tr th:only-of-type {\n",
       "        vertical-align: middle;\n",
       "    }\n",
       "\n",
       "    .dataframe tbody tr th {\n",
       "        vertical-align: top;\n",
       "    }\n",
       "\n",
       "    .dataframe thead th {\n",
       "        text-align: right;\n",
       "    }\n",
       "</style>\n",
       "<table border=\"1\" class=\"dataframe\">\n",
       "  <thead>\n",
       "    <tr style=\"text-align: right;\">\n",
       "      <th></th>\n",
       "      <th>rides_previous_672_hour</th>\n",
       "      <th>rides_previous_671_hour</th>\n",
       "      <th>rides_previous_670_hour</th>\n",
       "      <th>rides_previous_669_hour</th>\n",
       "      <th>rides_previous_668_hour</th>\n",
       "      <th>rides_previous_667_hour</th>\n",
       "      <th>rides_previous_666_hour</th>\n",
       "      <th>rides_previous_665_hour</th>\n",
       "      <th>rides_previous_664_hour</th>\n",
       "      <th>rides_previous_663_hour</th>\n",
       "      <th>...</th>\n",
       "      <th>rides_previous_7_hour</th>\n",
       "      <th>rides_previous_6_hour</th>\n",
       "      <th>rides_previous_5_hour</th>\n",
       "      <th>rides_previous_4_hour</th>\n",
       "      <th>rides_previous_3_hour</th>\n",
       "      <th>rides_previous_2_hour</th>\n",
       "      <th>rides_previous_1_hour</th>\n",
       "      <th>pickup_hour</th>\n",
       "      <th>pickup_location_id</th>\n",
       "      <th>target_rides_next_hour</th>\n",
       "    </tr>\n",
       "  </thead>\n",
       "  <tbody>\n",
       "    <tr>\n",
       "      <th>0</th>\n",
       "      <td>11.0</td>\n",
       "      <td>15.0</td>\n",
       "      <td>26.0</td>\n",
       "      <td>8.0</td>\n",
       "      <td>9.0</td>\n",
       "      <td>7.0</td>\n",
       "      <td>3.0</td>\n",
       "      <td>1.0</td>\n",
       "      <td>0.0</td>\n",
       "      <td>3.0</td>\n",
       "      <td>...</td>\n",
       "      <td>11.0</td>\n",
       "      <td>7.0</td>\n",
       "      <td>4.0</td>\n",
       "      <td>3.0</td>\n",
       "      <td>4.0</td>\n",
       "      <td>9.0</td>\n",
       "      <td>19.0</td>\n",
       "      <td>2022-01-29</td>\n",
       "      <td>4</td>\n",
       "      <td>17.0</td>\n",
       "    </tr>\n",
       "    <tr>\n",
       "      <th>1</th>\n",
       "      <td>1.0</td>\n",
       "      <td>0.0</td>\n",
       "      <td>2.0</td>\n",
       "      <td>0.0</td>\n",
       "      <td>0.0</td>\n",
       "      <td>0.0</td>\n",
       "      <td>0.0</td>\n",
       "      <td>0.0</td>\n",
       "      <td>1.0</td>\n",
       "      <td>1.0</td>\n",
       "      <td>...</td>\n",
       "      <td>5.0</td>\n",
       "      <td>4.0</td>\n",
       "      <td>10.0</td>\n",
       "      <td>7.0</td>\n",
       "      <td>5.0</td>\n",
       "      <td>9.0</td>\n",
       "      <td>10.0</td>\n",
       "      <td>2022-01-30</td>\n",
       "      <td>4</td>\n",
       "      <td>9.0</td>\n",
       "    </tr>\n",
       "    <tr>\n",
       "      <th>2</th>\n",
       "      <td>0.0</td>\n",
       "      <td>1.0</td>\n",
       "      <td>0.0</td>\n",
       "      <td>0.0</td>\n",
       "      <td>1.0</td>\n",
       "      <td>1.0</td>\n",
       "      <td>1.0</td>\n",
       "      <td>3.0</td>\n",
       "      <td>2.0</td>\n",
       "      <td>3.0</td>\n",
       "      <td>...</td>\n",
       "      <td>8.0</td>\n",
       "      <td>7.0</td>\n",
       "      <td>8.0</td>\n",
       "      <td>5.0</td>\n",
       "      <td>5.0</td>\n",
       "      <td>10.0</td>\n",
       "      <td>0.0</td>\n",
       "      <td>2022-01-31</td>\n",
       "      <td>4</td>\n",
       "      <td>3.0</td>\n",
       "    </tr>\n",
       "    <tr>\n",
       "      <th>3</th>\n",
       "      <td>1.0</td>\n",
       "      <td>1.0</td>\n",
       "      <td>0.0</td>\n",
       "      <td>0.0</td>\n",
       "      <td>0.0</td>\n",
       "      <td>3.0</td>\n",
       "      <td>2.0</td>\n",
       "      <td>3.0</td>\n",
       "      <td>4.0</td>\n",
       "      <td>5.0</td>\n",
       "      <td>...</td>\n",
       "      <td>3.0</td>\n",
       "      <td>16.0</td>\n",
       "      <td>7.0</td>\n",
       "      <td>1.0</td>\n",
       "      <td>0.0</td>\n",
       "      <td>1.0</td>\n",
       "      <td>3.0</td>\n",
       "      <td>2022-02-01</td>\n",
       "      <td>4</td>\n",
       "      <td>3.0</td>\n",
       "    </tr>\n",
       "    <tr>\n",
       "      <th>4</th>\n",
       "      <td>0.0</td>\n",
       "      <td>0.0</td>\n",
       "      <td>0.0</td>\n",
       "      <td>0.0</td>\n",
       "      <td>0.0</td>\n",
       "      <td>0.0</td>\n",
       "      <td>3.0</td>\n",
       "      <td>4.0</td>\n",
       "      <td>1.0</td>\n",
       "      <td>2.0</td>\n",
       "      <td>...</td>\n",
       "      <td>3.0</td>\n",
       "      <td>8.0</td>\n",
       "      <td>3.0</td>\n",
       "      <td>0.0</td>\n",
       "      <td>4.0</td>\n",
       "      <td>4.0</td>\n",
       "      <td>3.0</td>\n",
       "      <td>2022-02-02</td>\n",
       "      <td>4</td>\n",
       "      <td>1.0</td>\n",
       "    </tr>\n",
       "    <tr>\n",
       "      <th>...</th>\n",
       "      <td>...</td>\n",
       "      <td>...</td>\n",
       "      <td>...</td>\n",
       "      <td>...</td>\n",
       "      <td>...</td>\n",
       "      <td>...</td>\n",
       "      <td>...</td>\n",
       "      <td>...</td>\n",
       "      <td>...</td>\n",
       "      <td>...</td>\n",
       "      <td>...</td>\n",
       "      <td>...</td>\n",
       "      <td>...</td>\n",
       "      <td>...</td>\n",
       "      <td>...</td>\n",
       "      <td>...</td>\n",
       "      <td>...</td>\n",
       "      <td>...</td>\n",
       "      <td>...</td>\n",
       "      <td>...</td>\n",
       "      <td>...</td>\n",
       "    </tr>\n",
       "    <tr>\n",
       "      <th>80167</th>\n",
       "      <td>0.0</td>\n",
       "      <td>0.0</td>\n",
       "      <td>0.0</td>\n",
       "      <td>0.0</td>\n",
       "      <td>0.0</td>\n",
       "      <td>0.0</td>\n",
       "      <td>0.0</td>\n",
       "      <td>0.0</td>\n",
       "      <td>0.0</td>\n",
       "      <td>0.0</td>\n",
       "      <td>...</td>\n",
       "      <td>0.0</td>\n",
       "      <td>0.0</td>\n",
       "      <td>0.0</td>\n",
       "      <td>0.0</td>\n",
       "      <td>0.0</td>\n",
       "      <td>0.0</td>\n",
       "      <td>0.0</td>\n",
       "      <td>2022-11-26</td>\n",
       "      <td>199</td>\n",
       "      <td>0.0</td>\n",
       "    </tr>\n",
       "    <tr>\n",
       "      <th>80168</th>\n",
       "      <td>0.0</td>\n",
       "      <td>0.0</td>\n",
       "      <td>0.0</td>\n",
       "      <td>0.0</td>\n",
       "      <td>0.0</td>\n",
       "      <td>0.0</td>\n",
       "      <td>0.0</td>\n",
       "      <td>0.0</td>\n",
       "      <td>0.0</td>\n",
       "      <td>0.0</td>\n",
       "      <td>...</td>\n",
       "      <td>0.0</td>\n",
       "      <td>0.0</td>\n",
       "      <td>0.0</td>\n",
       "      <td>0.0</td>\n",
       "      <td>0.0</td>\n",
       "      <td>0.0</td>\n",
       "      <td>0.0</td>\n",
       "      <td>2022-11-27</td>\n",
       "      <td>199</td>\n",
       "      <td>0.0</td>\n",
       "    </tr>\n",
       "    <tr>\n",
       "      <th>80169</th>\n",
       "      <td>0.0</td>\n",
       "      <td>0.0</td>\n",
       "      <td>0.0</td>\n",
       "      <td>0.0</td>\n",
       "      <td>0.0</td>\n",
       "      <td>0.0</td>\n",
       "      <td>0.0</td>\n",
       "      <td>0.0</td>\n",
       "      <td>0.0</td>\n",
       "      <td>0.0</td>\n",
       "      <td>...</td>\n",
       "      <td>0.0</td>\n",
       "      <td>0.0</td>\n",
       "      <td>0.0</td>\n",
       "      <td>0.0</td>\n",
       "      <td>0.0</td>\n",
       "      <td>0.0</td>\n",
       "      <td>0.0</td>\n",
       "      <td>2022-11-28</td>\n",
       "      <td>199</td>\n",
       "      <td>0.0</td>\n",
       "    </tr>\n",
       "    <tr>\n",
       "      <th>80170</th>\n",
       "      <td>0.0</td>\n",
       "      <td>0.0</td>\n",
       "      <td>0.0</td>\n",
       "      <td>0.0</td>\n",
       "      <td>0.0</td>\n",
       "      <td>0.0</td>\n",
       "      <td>0.0</td>\n",
       "      <td>0.0</td>\n",
       "      <td>0.0</td>\n",
       "      <td>0.0</td>\n",
       "      <td>...</td>\n",
       "      <td>0.0</td>\n",
       "      <td>0.0</td>\n",
       "      <td>0.0</td>\n",
       "      <td>0.0</td>\n",
       "      <td>0.0</td>\n",
       "      <td>0.0</td>\n",
       "      <td>0.0</td>\n",
       "      <td>2022-11-29</td>\n",
       "      <td>199</td>\n",
       "      <td>0.0</td>\n",
       "    </tr>\n",
       "    <tr>\n",
       "      <th>80171</th>\n",
       "      <td>0.0</td>\n",
       "      <td>0.0</td>\n",
       "      <td>0.0</td>\n",
       "      <td>0.0</td>\n",
       "      <td>0.0</td>\n",
       "      <td>0.0</td>\n",
       "      <td>0.0</td>\n",
       "      <td>0.0</td>\n",
       "      <td>0.0</td>\n",
       "      <td>0.0</td>\n",
       "      <td>...</td>\n",
       "      <td>0.0</td>\n",
       "      <td>0.0</td>\n",
       "      <td>0.0</td>\n",
       "      <td>0.0</td>\n",
       "      <td>0.0</td>\n",
       "      <td>0.0</td>\n",
       "      <td>0.0</td>\n",
       "      <td>2022-11-30</td>\n",
       "      <td>199</td>\n",
       "      <td>0.0</td>\n",
       "    </tr>\n",
       "  </tbody>\n",
       "</table>\n",
       "<p>80172 rows × 675 columns</p>\n",
       "</div>"
      ],
      "text/plain": [
       "       rides_previous_672_hour  rides_previous_671_hour  \\\n",
       "0                         11.0                     15.0   \n",
       "1                          1.0                      0.0   \n",
       "2                          0.0                      1.0   \n",
       "3                          1.0                      1.0   \n",
       "4                          0.0                      0.0   \n",
       "...                        ...                      ...   \n",
       "80167                      0.0                      0.0   \n",
       "80168                      0.0                      0.0   \n",
       "80169                      0.0                      0.0   \n",
       "80170                      0.0                      0.0   \n",
       "80171                      0.0                      0.0   \n",
       "\n",
       "       rides_previous_670_hour  rides_previous_669_hour  \\\n",
       "0                         26.0                      8.0   \n",
       "1                          2.0                      0.0   \n",
       "2                          0.0                      0.0   \n",
       "3                          0.0                      0.0   \n",
       "4                          0.0                      0.0   \n",
       "...                        ...                      ...   \n",
       "80167                      0.0                      0.0   \n",
       "80168                      0.0                      0.0   \n",
       "80169                      0.0                      0.0   \n",
       "80170                      0.0                      0.0   \n",
       "80171                      0.0                      0.0   \n",
       "\n",
       "       rides_previous_668_hour  rides_previous_667_hour  \\\n",
       "0                          9.0                      7.0   \n",
       "1                          0.0                      0.0   \n",
       "2                          1.0                      1.0   \n",
       "3                          0.0                      3.0   \n",
       "4                          0.0                      0.0   \n",
       "...                        ...                      ...   \n",
       "80167                      0.0                      0.0   \n",
       "80168                      0.0                      0.0   \n",
       "80169                      0.0                      0.0   \n",
       "80170                      0.0                      0.0   \n",
       "80171                      0.0                      0.0   \n",
       "\n",
       "       rides_previous_666_hour  rides_previous_665_hour  \\\n",
       "0                          3.0                      1.0   \n",
       "1                          0.0                      0.0   \n",
       "2                          1.0                      3.0   \n",
       "3                          2.0                      3.0   \n",
       "4                          3.0                      4.0   \n",
       "...                        ...                      ...   \n",
       "80167                      0.0                      0.0   \n",
       "80168                      0.0                      0.0   \n",
       "80169                      0.0                      0.0   \n",
       "80170                      0.0                      0.0   \n",
       "80171                      0.0                      0.0   \n",
       "\n",
       "       rides_previous_664_hour  rides_previous_663_hour  ...  \\\n",
       "0                          0.0                      3.0  ...   \n",
       "1                          1.0                      1.0  ...   \n",
       "2                          2.0                      3.0  ...   \n",
       "3                          4.0                      5.0  ...   \n",
       "4                          1.0                      2.0  ...   \n",
       "...                        ...                      ...  ...   \n",
       "80167                      0.0                      0.0  ...   \n",
       "80168                      0.0                      0.0  ...   \n",
       "80169                      0.0                      0.0  ...   \n",
       "80170                      0.0                      0.0  ...   \n",
       "80171                      0.0                      0.0  ...   \n",
       "\n",
       "       rides_previous_7_hour  rides_previous_6_hour  rides_previous_5_hour  \\\n",
       "0                       11.0                    7.0                    4.0   \n",
       "1                        5.0                    4.0                   10.0   \n",
       "2                        8.0                    7.0                    8.0   \n",
       "3                        3.0                   16.0                    7.0   \n",
       "4                        3.0                    8.0                    3.0   \n",
       "...                      ...                    ...                    ...   \n",
       "80167                    0.0                    0.0                    0.0   \n",
       "80168                    0.0                    0.0                    0.0   \n",
       "80169                    0.0                    0.0                    0.0   \n",
       "80170                    0.0                    0.0                    0.0   \n",
       "80171                    0.0                    0.0                    0.0   \n",
       "\n",
       "       rides_previous_4_hour  rides_previous_3_hour  rides_previous_2_hour  \\\n",
       "0                        3.0                    4.0                    9.0   \n",
       "1                        7.0                    5.0                    9.0   \n",
       "2                        5.0                    5.0                   10.0   \n",
       "3                        1.0                    0.0                    1.0   \n",
       "4                        0.0                    4.0                    4.0   \n",
       "...                      ...                    ...                    ...   \n",
       "80167                    0.0                    0.0                    0.0   \n",
       "80168                    0.0                    0.0                    0.0   \n",
       "80169                    0.0                    0.0                    0.0   \n",
       "80170                    0.0                    0.0                    0.0   \n",
       "80171                    0.0                    0.0                    0.0   \n",
       "\n",
       "       rides_previous_1_hour  pickup_hour  pickup_location_id  \\\n",
       "0                       19.0   2022-01-29                   4   \n",
       "1                       10.0   2022-01-30                   4   \n",
       "2                        0.0   2022-01-31                   4   \n",
       "3                        3.0   2022-02-01                   4   \n",
       "4                        3.0   2022-02-02                   4   \n",
       "...                      ...          ...                 ...   \n",
       "80167                    0.0   2022-11-26                 199   \n",
       "80168                    0.0   2022-11-27                 199   \n",
       "80169                    0.0   2022-11-28                 199   \n",
       "80170                    0.0   2022-11-29                 199   \n",
       "80171                    0.0   2022-11-30                 199   \n",
       "\n",
       "       target_rides_next_hour  \n",
       "0                        17.0  \n",
       "1                         9.0  \n",
       "2                         3.0  \n",
       "3                         3.0  \n",
       "4                         1.0  \n",
       "...                       ...  \n",
       "80167                     0.0  \n",
       "80168                     0.0  \n",
       "80169                     0.0  \n",
       "80170                     0.0  \n",
       "80171                     0.0  \n",
       "\n",
       "[80172 rows x 675 columns]"
      ]
     },
     "execution_count": 2,
     "metadata": {},
     "output_type": "execute_result"
    }
   ],
   "source": [
    "# load dataset\n",
    "df = pd.read_parquet(TRANSFORMED_DATA_DIR / 'tabular_data.parquet')\n",
    "df"
   ]
  },
  {
   "cell_type": "code",
   "execution_count": 3,
   "metadata": {},
   "outputs": [
    {
     "name": "stdout",
     "output_type": "stream",
     "text": [
      "X_train.shape=(32226, 674)\n",
      "y_train.shape=(32226,)\n",
      "X_test.shape=(47946, 674)\n",
      "y_test.shape=(47946,)\n"
     ]
    }
   ],
   "source": [
    "# train test split\n",
    "X_train, y_train, X_test, y_test = data_split.train_test_split(df, datetime(2022, 6, 1, 0, 0, 0), 'target_rides_next_hour')\n",
    "\n",
    "print(f'{X_train.shape=}')\n",
    "print(f'{y_train.shape=}')\n",
    "print(f'{X_test.shape=}')\n",
    "print(f'{y_test.shape=}')"
   ]
  },
  {
   "cell_type": "code",
   "execution_count": 4,
   "metadata": {},
   "outputs": [],
   "source": [
    "# define objective function\n",
    "def objective(trial: optuna.trial.Trial) -> float:\n",
    "    '''Takes in hyperparameters as input, and trains a model that computes the average validation error based on TimeSeriesSplit cross validation'''\n",
    "\n",
    "    # define hyperparameters\n",
    "    params = {\n",
    "        \"num_leaves\": trial.suggest_int(\"num_leaves\", 2, 256),\n",
    "        \"colsample_bytree\": trial.suggest_float(\"colsample_bytree\", 0.2, 1.0),\n",
    "        \"subsample\": trial.suggest_float(\"subsample\", 0.2, 1.0),\n",
    "        \"min_child_samples\": trial.suggest_int(\"min_child_samples\", 3, 100),   \n",
    "    }\n",
    "\n",
    "    tss = TimeSeriesSplit(n_splits=4)\n",
    "    scores = []\n",
    "    for train_index, val_index in tss.split(X_train):\n",
    "        # split data\n",
    "        X_train_, X_val = X_train.iloc[train_index], X_train.iloc[val_index]\n",
    "        y_train_, y_val = y_train.iloc[train_index], y_train.iloc[val_index]\n",
    "\n",
    "        # create model\n",
    "        pipeline = model.get_pipeline(**params)\n",
    "\n",
    "        # fit model\n",
    "        pipeline.fit(X_train_, y_train_)\n",
    "\n",
    "        # compute validation error\n",
    "        y_pred = pipeline.predict(X_val)\n",
    "        mae = mean_absolute_error(y_val, y_pred)\n",
    "\n",
    "        scores.append(mae)\n",
    "    \n",
    "    return np.mean(scores)"
   ]
  },
  {
   "cell_type": "code",
   "execution_count": 5,
   "metadata": {},
   "outputs": [
    {
     "name": "stderr",
     "output_type": "stream",
     "text": [
      "\u001b[32m[I 2023-03-06 13:27:39,019]\u001b[0m A new study created in memory with name: lightgbm\u001b[0m\n",
      "\u001b[32m[I 2023-03-06 13:27:46,489]\u001b[0m Trial 0 finished with value: 1.6154221889593725 and parameters: {'num_leaves': 33, 'colsample_bytree': 0.3689506953116249, 'subsample': 0.8787489345369892, 'min_child_samples': 34}. Best is trial 0 with value: 1.6154221889593725.\u001b[0m\n",
      "\u001b[32m[I 2023-03-06 13:28:07,621]\u001b[0m Trial 1 finished with value: 1.4602736496738657 and parameters: {'num_leaves': 178, 'colsample_bytree': 0.9001691960101477, 'subsample': 0.4412345562104535, 'min_child_samples': 86}. Best is trial 1 with value: 1.4602736496738657.\u001b[0m\n",
      "\u001b[32m[I 2023-03-06 13:28:14,200]\u001b[0m Trial 2 finished with value: 1.6113077514456804 and parameters: {'num_leaves': 26, 'colsample_bytree': 0.7778005818373854, 'subsample': 0.6982971355214072, 'min_child_samples': 67}. Best is trial 1 with value: 1.4602736496738657.\u001b[0m\n",
      "\u001b[32m[I 2023-03-06 13:28:25,520]\u001b[0m Trial 3 finished with value: 1.427971940528273 and parameters: {'num_leaves': 87, 'colsample_bytree': 0.3157468774307874, 'subsample': 0.3028496624053234, 'min_child_samples': 93}. Best is trial 3 with value: 1.427971940528273.\u001b[0m\n",
      "\u001b[32m[I 2023-03-06 13:28:55,196]\u001b[0m Trial 4 finished with value: 1.4433574083590326 and parameters: {'num_leaves': 254, 'colsample_bytree': 0.7166614709089305, 'subsample': 0.6215375918132424, 'min_child_samples': 34}. Best is trial 3 with value: 1.427971940528273.\u001b[0m\n",
      "\u001b[32m[I 2023-03-06 13:29:13,054]\u001b[0m Trial 5 finished with value: 1.4560754367986444 and parameters: {'num_leaves': 112, 'colsample_bytree': 0.8393864910318194, 'subsample': 0.5248306069591413, 'min_child_samples': 56}. Best is trial 3 with value: 1.427971940528273.\u001b[0m\n",
      "\u001b[32m[I 2023-03-06 13:29:35,570]\u001b[0m Trial 6 finished with value: 1.437644600037251 and parameters: {'num_leaves': 184, 'colsample_bytree': 0.5099492664587403, 'subsample': 0.29948288999642253, 'min_child_samples': 46}. Best is trial 3 with value: 1.427971940528273.\u001b[0m\n",
      "\u001b[32m[I 2023-03-06 13:30:03,097]\u001b[0m Trial 7 finished with value: 1.4242765899171819 and parameters: {'num_leaves': 220, 'colsample_bytree': 0.57894966988321, 'subsample': 0.6731226675537886, 'min_child_samples': 34}. Best is trial 7 with value: 1.4242765899171819.\u001b[0m\n",
      "\u001b[32m[I 2023-03-06 13:30:30,974]\u001b[0m Trial 8 finished with value: 1.46347063955332 and parameters: {'num_leaves': 230, 'colsample_bytree': 0.459319539028753, 'subsample': 0.510080953473943, 'min_child_samples': 25}. Best is trial 7 with value: 1.4242765899171819.\u001b[0m\n",
      "\u001b[32m[I 2023-03-06 13:30:51,940]\u001b[0m Trial 9 finished with value: 1.4344024626699114 and parameters: {'num_leaves': 142, 'colsample_bytree': 0.9810019004188695, 'subsample': 0.5139963161692935, 'min_child_samples': 72}. Best is trial 7 with value: 1.4242765899171819.\u001b[0m\n"
     ]
    }
   ],
   "source": [
    "import warnings\n",
    "warnings.filterwarnings('ignore')\n",
    "\n",
    "# optuna study\n",
    "study = optuna.create_study(direction='minimize', study_name='lightgbm')\n",
    "study.optimize(objective, n_trials=10)"
   ]
  },
  {
   "cell_type": "code",
   "execution_count": 6,
   "metadata": {},
   "outputs": [
    {
     "name": "stdout",
     "output_type": "stream",
     "text": [
      "best_params={'num_leaves': 220, 'colsample_bytree': 0.57894966988321, 'subsample': 0.6731226675537886, 'min_child_samples': 34}\n"
     ]
    }
   ],
   "source": [
    "best_params = study.best_trial.params\n",
    "print(f'{best_params=}')"
   ]
  },
  {
   "cell_type": "code",
   "execution_count": 7,
   "metadata": {},
   "outputs": [
    {
     "data": {
      "text/html": [
       "<style>#sk-container-id-1 {color: black;background-color: white;}#sk-container-id-1 pre{padding: 0;}#sk-container-id-1 div.sk-toggleable {background-color: white;}#sk-container-id-1 label.sk-toggleable__label {cursor: pointer;display: block;width: 100%;margin-bottom: 0;padding: 0.3em;box-sizing: border-box;text-align: center;}#sk-container-id-1 label.sk-toggleable__label-arrow:before {content: \"▸\";float: left;margin-right: 0.25em;color: #696969;}#sk-container-id-1 label.sk-toggleable__label-arrow:hover:before {color: black;}#sk-container-id-1 div.sk-estimator:hover label.sk-toggleable__label-arrow:before {color: black;}#sk-container-id-1 div.sk-toggleable__content {max-height: 0;max-width: 0;overflow: hidden;text-align: left;background-color: #f0f8ff;}#sk-container-id-1 div.sk-toggleable__content pre {margin: 0.2em;color: black;border-radius: 0.25em;background-color: #f0f8ff;}#sk-container-id-1 input.sk-toggleable__control:checked~div.sk-toggleable__content {max-height: 200px;max-width: 100%;overflow: auto;}#sk-container-id-1 input.sk-toggleable__control:checked~label.sk-toggleable__label-arrow:before {content: \"▾\";}#sk-container-id-1 div.sk-estimator input.sk-toggleable__control:checked~label.sk-toggleable__label {background-color: #d4ebff;}#sk-container-id-1 div.sk-label input.sk-toggleable__control:checked~label.sk-toggleable__label {background-color: #d4ebff;}#sk-container-id-1 input.sk-hidden--visually {border: 0;clip: rect(1px 1px 1px 1px);clip: rect(1px, 1px, 1px, 1px);height: 1px;margin: -1px;overflow: hidden;padding: 0;position: absolute;width: 1px;}#sk-container-id-1 div.sk-estimator {font-family: monospace;background-color: #f0f8ff;border: 1px dotted black;border-radius: 0.25em;box-sizing: border-box;margin-bottom: 0.5em;}#sk-container-id-1 div.sk-estimator:hover {background-color: #d4ebff;}#sk-container-id-1 div.sk-parallel-item::after {content: \"\";width: 100%;border-bottom: 1px solid gray;flex-grow: 1;}#sk-container-id-1 div.sk-label:hover label.sk-toggleable__label {background-color: #d4ebff;}#sk-container-id-1 div.sk-serial::before {content: \"\";position: absolute;border-left: 1px solid gray;box-sizing: border-box;top: 0;bottom: 0;left: 50%;z-index: 0;}#sk-container-id-1 div.sk-serial {display: flex;flex-direction: column;align-items: center;background-color: white;padding-right: 0.2em;padding-left: 0.2em;position: relative;}#sk-container-id-1 div.sk-item {position: relative;z-index: 1;}#sk-container-id-1 div.sk-parallel {display: flex;align-items: stretch;justify-content: center;background-color: white;position: relative;}#sk-container-id-1 div.sk-item::before, #sk-container-id-1 div.sk-parallel-item::before {content: \"\";position: absolute;border-left: 1px solid gray;box-sizing: border-box;top: 0;bottom: 0;left: 50%;z-index: -1;}#sk-container-id-1 div.sk-parallel-item {display: flex;flex-direction: column;z-index: 1;position: relative;background-color: white;}#sk-container-id-1 div.sk-parallel-item:first-child::after {align-self: flex-end;width: 50%;}#sk-container-id-1 div.sk-parallel-item:last-child::after {align-self: flex-start;width: 50%;}#sk-container-id-1 div.sk-parallel-item:only-child::after {width: 0;}#sk-container-id-1 div.sk-dashed-wrapped {border: 1px dashed gray;margin: 0 0.4em 0.5em 0.4em;box-sizing: border-box;padding-bottom: 0.4em;background-color: white;}#sk-container-id-1 div.sk-label label {font-family: monospace;font-weight: bold;display: inline-block;line-height: 1.2em;}#sk-container-id-1 div.sk-label-container {text-align: center;}#sk-container-id-1 div.sk-container {/* jupyter's `normalize.less` sets `[hidden] { display: none; }` but bootstrap.min.css set `[hidden] { display: none !important; }` so we also need the `!important` here to be able to override the default hidden behavior on the sphinx rendered scikit-learn.org. See: https://github.com/scikit-learn/scikit-learn/issues/21755 */display: inline-block !important;position: relative;}#sk-container-id-1 div.sk-text-repr-fallback {display: none;}</style><div id=\"sk-container-id-1\" class=\"sk-top-container\"><div class=\"sk-text-repr-fallback\"><pre>Pipeline(steps=[(&#x27;functiontransformer-1&#x27;,\n",
       "                 FunctionTransformer(func=&lt;function average_rides_last_4_weeks at 0x137e713a0&gt;)),\n",
       "                (&#x27;functiontransformer-2&#x27;,\n",
       "                 FunctionTransformer(func=&lt;function extract_temporal_features at 0x1421af820&gt;)),\n",
       "                (&#x27;add_latitude_and_longitude_features&#x27;,\n",
       "                 add_latitude_and_longitude_features(df_lat_lon=     LocationID   latitude  longitude\n",
       "0             1 -74.174270  40.690...\n",
       "3             4 -73.975209  40.723853\n",
       "4             5 -74.189803  40.556678\n",
       "..          ...        ...        ...\n",
       "258         256 -73.962940  40.710736\n",
       "259         259 -73.853635  40.900107\n",
       "260         260 -73.905907  40.746439\n",
       "261         261 -74.013983  40.707456\n",
       "262         262 -73.943489  40.778363\n",
       "\n",
       "[260 rows x 3 columns])),\n",
       "                (&#x27;lgbmregressor&#x27;,\n",
       "                 LGBMRegressor(colsample_bytree=0.57894966988321,\n",
       "                               min_child_samples=34, num_leaves=220,\n",
       "                               subsample=0.6731226675537886,\n",
       "                               verbose_eval=None))])</pre><b>In a Jupyter environment, please rerun this cell to show the HTML representation or trust the notebook. <br />On GitHub, the HTML representation is unable to render, please try loading this page with nbviewer.org.</b></div><div class=\"sk-container\" hidden><div class=\"sk-item sk-dashed-wrapped\"><div class=\"sk-label-container\"><div class=\"sk-label sk-toggleable\"><input class=\"sk-toggleable__control sk-hidden--visually\" id=\"sk-estimator-id-1\" type=\"checkbox\" ><label for=\"sk-estimator-id-1\" class=\"sk-toggleable__label sk-toggleable__label-arrow\">Pipeline</label><div class=\"sk-toggleable__content\"><pre>Pipeline(steps=[(&#x27;functiontransformer-1&#x27;,\n",
       "                 FunctionTransformer(func=&lt;function average_rides_last_4_weeks at 0x137e713a0&gt;)),\n",
       "                (&#x27;functiontransformer-2&#x27;,\n",
       "                 FunctionTransformer(func=&lt;function extract_temporal_features at 0x1421af820&gt;)),\n",
       "                (&#x27;add_latitude_and_longitude_features&#x27;,\n",
       "                 add_latitude_and_longitude_features(df_lat_lon=     LocationID   latitude  longitude\n",
       "0             1 -74.174270  40.690...\n",
       "3             4 -73.975209  40.723853\n",
       "4             5 -74.189803  40.556678\n",
       "..          ...        ...        ...\n",
       "258         256 -73.962940  40.710736\n",
       "259         259 -73.853635  40.900107\n",
       "260         260 -73.905907  40.746439\n",
       "261         261 -74.013983  40.707456\n",
       "262         262 -73.943489  40.778363\n",
       "\n",
       "[260 rows x 3 columns])),\n",
       "                (&#x27;lgbmregressor&#x27;,\n",
       "                 LGBMRegressor(colsample_bytree=0.57894966988321,\n",
       "                               min_child_samples=34, num_leaves=220,\n",
       "                               subsample=0.6731226675537886,\n",
       "                               verbose_eval=None))])</pre></div></div></div><div class=\"sk-serial\"><div class=\"sk-item\"><div class=\"sk-estimator sk-toggleable\"><input class=\"sk-toggleable__control sk-hidden--visually\" id=\"sk-estimator-id-2\" type=\"checkbox\" ><label for=\"sk-estimator-id-2\" class=\"sk-toggleable__label sk-toggleable__label-arrow\">FunctionTransformer</label><div class=\"sk-toggleable__content\"><pre>FunctionTransformer(func=&lt;function average_rides_last_4_weeks at 0x137e713a0&gt;)</pre></div></div></div><div class=\"sk-item\"><div class=\"sk-estimator sk-toggleable\"><input class=\"sk-toggleable__control sk-hidden--visually\" id=\"sk-estimator-id-3\" type=\"checkbox\" ><label for=\"sk-estimator-id-3\" class=\"sk-toggleable__label sk-toggleable__label-arrow\">FunctionTransformer</label><div class=\"sk-toggleable__content\"><pre>FunctionTransformer(func=&lt;function extract_temporal_features at 0x1421af820&gt;)</pre></div></div></div><div class=\"sk-item\"><div class=\"sk-estimator sk-toggleable\"><input class=\"sk-toggleable__control sk-hidden--visually\" id=\"sk-estimator-id-4\" type=\"checkbox\" ><label for=\"sk-estimator-id-4\" class=\"sk-toggleable__label sk-toggleable__label-arrow\">add_latitude_and_longitude_features</label><div class=\"sk-toggleable__content\"><pre>add_latitude_and_longitude_features(df_lat_lon=     LocationID   latitude  longitude\n",
       "0             1 -74.174270  40.690243\n",
       "1             2 -73.817643  40.612163\n",
       "2             3 -73.846510  40.864294\n",
       "3             4 -73.975209  40.723853\n",
       "4             5 -74.189803  40.556678\n",
       "..          ...        ...        ...\n",
       "258         256 -73.962940  40.710736\n",
       "259         259 -73.853635  40.900107\n",
       "260         260 -73.905907  40.746439\n",
       "261         261 -74.013983  40.707456\n",
       "262         262 -73.943489  40.778363\n",
       "\n",
       "[260 rows x 3 columns])</pre></div></div></div><div class=\"sk-item\"><div class=\"sk-estimator sk-toggleable\"><input class=\"sk-toggleable__control sk-hidden--visually\" id=\"sk-estimator-id-5\" type=\"checkbox\" ><label for=\"sk-estimator-id-5\" class=\"sk-toggleable__label sk-toggleable__label-arrow\">LGBMRegressor</label><div class=\"sk-toggleable__content\"><pre>LGBMRegressor(colsample_bytree=0.57894966988321, min_child_samples=34,\n",
       "              num_leaves=220, subsample=0.6731226675537886, verbose_eval=None)</pre></div></div></div></div></div></div></div>"
      ],
      "text/plain": [
       "Pipeline(steps=[('functiontransformer-1',\n",
       "                 FunctionTransformer(func=<function average_rides_last_4_weeks at 0x137e713a0>)),\n",
       "                ('functiontransformer-2',\n",
       "                 FunctionTransformer(func=<function extract_temporal_features at 0x1421af820>)),\n",
       "                ('add_latitude_and_longitude_features',\n",
       "                 add_latitude_and_longitude_features(df_lat_lon=     LocationID   latitude  longitude\n",
       "0             1 -74.174270  40.690...\n",
       "3             4 -73.975209  40.723853\n",
       "4             5 -74.189803  40.556678\n",
       "..          ...        ...        ...\n",
       "258         256 -73.962940  40.710736\n",
       "259         259 -73.853635  40.900107\n",
       "260         260 -73.905907  40.746439\n",
       "261         261 -74.013983  40.707456\n",
       "262         262 -73.943489  40.778363\n",
       "\n",
       "[260 rows x 3 columns])),\n",
       "                ('lgbmregressor',\n",
       "                 LGBMRegressor(colsample_bytree=0.57894966988321,\n",
       "                               min_child_samples=34, num_leaves=220,\n",
       "                               subsample=0.6731226675537886,\n",
       "                               verbose_eval=None))])"
      ]
     },
     "execution_count": 7,
     "metadata": {},
     "output_type": "execute_result"
    }
   ],
   "source": [
    "# fit best params on full training set\n",
    "pipeline = model.get_pipeline(**best_params)\n",
    "pipeline.fit(X_train, y_train)"
   ]
  },
  {
   "cell_type": "code",
   "execution_count": 8,
   "metadata": {},
   "outputs": [
    {
     "name": "stdout",
     "output_type": "stream",
     "text": [
      "test_mae=2.5062\n"
     ]
    }
   ],
   "source": [
    "predictions = pipeline.predict(X_test)\n",
    "test_mae = mean_absolute_error(y_test, predictions)\n",
    "print(f'{test_mae=:.4f}')"
   ]
  },
  {
   "cell_type": "code",
   "execution_count": 9,
   "metadata": {},
   "outputs": [
    {
     "data": {
      "application/vnd.plotly.v1+json": {
       "config": {
        "plotlyServerURL": "https://plot.ly"
       },
       "data": [
        {
         "hovertemplate": "Time=%{x}<br>Value=%{y}<extra></extra>",
         "legendgroup": "",
         "line": {
          "color": "#636efa",
          "dash": "solid"
         },
         "marker": {
          "symbol": "circle"
         },
         "mode": "lines",
         "name": "",
         "orientation": "v",
         "showlegend": false,
         "type": "scatter",
         "x": [
          "2022-10-21T00:00:00",
          "2022-10-21T01:00:00",
          "2022-10-21T02:00:00",
          "2022-10-21T03:00:00",
          "2022-10-21T04:00:00",
          "2022-10-21T05:00:00",
          "2022-10-21T06:00:00",
          "2022-10-21T07:00:00",
          "2022-10-21T08:00:00",
          "2022-10-21T09:00:00",
          "2022-10-21T10:00:00",
          "2022-10-21T11:00:00",
          "2022-10-21T12:00:00",
          "2022-10-21T13:00:00",
          "2022-10-21T14:00:00",
          "2022-10-21T15:00:00",
          "2022-10-21T16:00:00",
          "2022-10-21T17:00:00",
          "2022-10-21T18:00:00",
          "2022-10-21T19:00:00",
          "2022-10-21T20:00:00",
          "2022-10-21T21:00:00",
          "2022-10-21T22:00:00",
          "2022-10-21T23:00:00",
          "2022-10-22T00:00:00",
          "2022-10-22T01:00:00",
          "2022-10-22T02:00:00",
          "2022-10-22T03:00:00",
          "2022-10-22T04:00:00",
          "2022-10-22T05:00:00",
          "2022-10-22T06:00:00",
          "2022-10-22T07:00:00",
          "2022-10-22T08:00:00",
          "2022-10-22T09:00:00",
          "2022-10-22T10:00:00",
          "2022-10-22T11:00:00",
          "2022-10-22T12:00:00",
          "2022-10-22T13:00:00",
          "2022-10-22T14:00:00",
          "2022-10-22T15:00:00",
          "2022-10-22T16:00:00",
          "2022-10-22T17:00:00",
          "2022-10-22T18:00:00",
          "2022-10-22T19:00:00",
          "2022-10-22T20:00:00",
          "2022-10-22T21:00:00",
          "2022-10-22T22:00:00",
          "2022-10-22T23:00:00",
          "2022-10-23T00:00:00",
          "2022-10-23T01:00:00",
          "2022-10-23T02:00:00",
          "2022-10-23T03:00:00",
          "2022-10-23T04:00:00",
          "2022-10-23T05:00:00",
          "2022-10-23T06:00:00",
          "2022-10-23T07:00:00",
          "2022-10-23T08:00:00",
          "2022-10-23T09:00:00",
          "2022-10-23T10:00:00",
          "2022-10-23T11:00:00",
          "2022-10-23T12:00:00",
          "2022-10-23T13:00:00",
          "2022-10-23T14:00:00",
          "2022-10-23T15:00:00",
          "2022-10-23T16:00:00",
          "2022-10-23T17:00:00",
          "2022-10-23T18:00:00",
          "2022-10-23T19:00:00",
          "2022-10-23T20:00:00",
          "2022-10-23T21:00:00",
          "2022-10-23T22:00:00",
          "2022-10-23T23:00:00",
          "2022-10-24T00:00:00",
          "2022-10-24T01:00:00",
          "2022-10-24T02:00:00",
          "2022-10-24T03:00:00",
          "2022-10-24T04:00:00",
          "2022-10-24T05:00:00",
          "2022-10-24T06:00:00",
          "2022-10-24T07:00:00",
          "2022-10-24T08:00:00",
          "2022-10-24T09:00:00",
          "2022-10-24T10:00:00",
          "2022-10-24T11:00:00",
          "2022-10-24T12:00:00",
          "2022-10-24T13:00:00",
          "2022-10-24T14:00:00",
          "2022-10-24T15:00:00",
          "2022-10-24T16:00:00",
          "2022-10-24T17:00:00",
          "2022-10-24T18:00:00",
          "2022-10-24T19:00:00",
          "2022-10-24T20:00:00",
          "2022-10-24T21:00:00",
          "2022-10-24T22:00:00",
          "2022-10-24T23:00:00",
          "2022-10-25T00:00:00",
          "2022-10-25T01:00:00",
          "2022-10-25T02:00:00",
          "2022-10-25T03:00:00",
          "2022-10-25T04:00:00",
          "2022-10-25T05:00:00",
          "2022-10-25T06:00:00",
          "2022-10-25T07:00:00",
          "2022-10-25T08:00:00",
          "2022-10-25T09:00:00",
          "2022-10-25T10:00:00",
          "2022-10-25T11:00:00",
          "2022-10-25T12:00:00",
          "2022-10-25T13:00:00",
          "2022-10-25T14:00:00",
          "2022-10-25T15:00:00",
          "2022-10-25T16:00:00",
          "2022-10-25T17:00:00",
          "2022-10-25T18:00:00",
          "2022-10-25T19:00:00",
          "2022-10-25T20:00:00",
          "2022-10-25T21:00:00",
          "2022-10-25T22:00:00",
          "2022-10-25T23:00:00",
          "2022-10-26T00:00:00",
          "2022-10-26T01:00:00",
          "2022-10-26T02:00:00",
          "2022-10-26T03:00:00",
          "2022-10-26T04:00:00",
          "2022-10-26T05:00:00",
          "2022-10-26T06:00:00",
          "2022-10-26T07:00:00",
          "2022-10-26T08:00:00",
          "2022-10-26T09:00:00",
          "2022-10-26T10:00:00",
          "2022-10-26T11:00:00",
          "2022-10-26T12:00:00",
          "2022-10-26T13:00:00",
          "2022-10-26T14:00:00",
          "2022-10-26T15:00:00",
          "2022-10-26T16:00:00",
          "2022-10-26T17:00:00",
          "2022-10-26T18:00:00",
          "2022-10-26T19:00:00",
          "2022-10-26T20:00:00",
          "2022-10-26T21:00:00",
          "2022-10-26T22:00:00",
          "2022-10-26T23:00:00",
          "2022-10-27T00:00:00",
          "2022-10-27T01:00:00",
          "2022-10-27T02:00:00",
          "2022-10-27T03:00:00",
          "2022-10-27T04:00:00",
          "2022-10-27T05:00:00",
          "2022-10-27T06:00:00",
          "2022-10-27T07:00:00",
          "2022-10-27T08:00:00",
          "2022-10-27T09:00:00",
          "2022-10-27T10:00:00",
          "2022-10-27T11:00:00",
          "2022-10-27T12:00:00",
          "2022-10-27T13:00:00",
          "2022-10-27T14:00:00",
          "2022-10-27T15:00:00",
          "2022-10-27T16:00:00",
          "2022-10-27T17:00:00",
          "2022-10-27T18:00:00",
          "2022-10-27T19:00:00",
          "2022-10-27T20:00:00",
          "2022-10-27T21:00:00",
          "2022-10-27T22:00:00",
          "2022-10-27T23:00:00",
          "2022-10-28T00:00:00",
          "2022-10-28T01:00:00",
          "2022-10-28T02:00:00",
          "2022-10-28T03:00:00",
          "2022-10-28T04:00:00",
          "2022-10-28T05:00:00",
          "2022-10-28T06:00:00",
          "2022-10-28T07:00:00",
          "2022-10-28T08:00:00",
          "2022-10-28T09:00:00",
          "2022-10-28T10:00:00",
          "2022-10-28T11:00:00",
          "2022-10-28T12:00:00",
          "2022-10-28T13:00:00",
          "2022-10-28T14:00:00",
          "2022-10-28T15:00:00",
          "2022-10-28T16:00:00",
          "2022-10-28T17:00:00",
          "2022-10-28T18:00:00",
          "2022-10-28T19:00:00",
          "2022-10-28T20:00:00",
          "2022-10-28T21:00:00",
          "2022-10-28T22:00:00",
          "2022-10-28T23:00:00",
          "2022-10-29T00:00:00",
          "2022-10-29T01:00:00",
          "2022-10-29T02:00:00",
          "2022-10-29T03:00:00",
          "2022-10-29T04:00:00",
          "2022-10-29T05:00:00",
          "2022-10-29T06:00:00",
          "2022-10-29T07:00:00",
          "2022-10-29T08:00:00",
          "2022-10-29T09:00:00",
          "2022-10-29T10:00:00",
          "2022-10-29T11:00:00",
          "2022-10-29T12:00:00",
          "2022-10-29T13:00:00",
          "2022-10-29T14:00:00",
          "2022-10-29T15:00:00",
          "2022-10-29T16:00:00",
          "2022-10-29T17:00:00",
          "2022-10-29T18:00:00",
          "2022-10-29T19:00:00",
          "2022-10-29T20:00:00",
          "2022-10-29T21:00:00",
          "2022-10-29T22:00:00",
          "2022-10-29T23:00:00",
          "2022-10-30T00:00:00",
          "2022-10-30T01:00:00",
          "2022-10-30T02:00:00",
          "2022-10-30T03:00:00",
          "2022-10-30T04:00:00",
          "2022-10-30T05:00:00",
          "2022-10-30T06:00:00",
          "2022-10-30T07:00:00",
          "2022-10-30T08:00:00",
          "2022-10-30T09:00:00",
          "2022-10-30T10:00:00",
          "2022-10-30T11:00:00",
          "2022-10-30T12:00:00",
          "2022-10-30T13:00:00",
          "2022-10-30T14:00:00",
          "2022-10-30T15:00:00",
          "2022-10-30T16:00:00",
          "2022-10-30T17:00:00",
          "2022-10-30T18:00:00",
          "2022-10-30T19:00:00",
          "2022-10-30T20:00:00",
          "2022-10-30T21:00:00",
          "2022-10-30T22:00:00",
          "2022-10-30T23:00:00",
          "2022-10-31T00:00:00",
          "2022-10-31T01:00:00",
          "2022-10-31T02:00:00",
          "2022-10-31T03:00:00",
          "2022-10-31T04:00:00",
          "2022-10-31T05:00:00",
          "2022-10-31T06:00:00",
          "2022-10-31T07:00:00",
          "2022-10-31T08:00:00",
          "2022-10-31T09:00:00",
          "2022-10-31T10:00:00",
          "2022-10-31T11:00:00",
          "2022-10-31T12:00:00",
          "2022-10-31T13:00:00",
          "2022-10-31T14:00:00",
          "2022-10-31T15:00:00",
          "2022-10-31T16:00:00",
          "2022-10-31T17:00:00",
          "2022-10-31T18:00:00",
          "2022-10-31T19:00:00",
          "2022-10-31T20:00:00",
          "2022-10-31T21:00:00",
          "2022-10-31T22:00:00",
          "2022-10-31T23:00:00",
          "2022-11-01T00:00:00",
          "2022-11-01T01:00:00",
          "2022-11-01T02:00:00",
          "2022-11-01T03:00:00",
          "2022-11-01T04:00:00",
          "2022-11-01T05:00:00",
          "2022-11-01T06:00:00",
          "2022-11-01T07:00:00",
          "2022-11-01T08:00:00",
          "2022-11-01T09:00:00",
          "2022-11-01T10:00:00",
          "2022-11-01T11:00:00",
          "2022-11-01T12:00:00",
          "2022-11-01T13:00:00",
          "2022-11-01T14:00:00",
          "2022-11-01T15:00:00",
          "2022-11-01T16:00:00",
          "2022-11-01T17:00:00",
          "2022-11-01T18:00:00",
          "2022-11-01T19:00:00",
          "2022-11-01T20:00:00",
          "2022-11-01T21:00:00",
          "2022-11-01T22:00:00",
          "2022-11-01T23:00:00",
          "2022-11-02T00:00:00",
          "2022-11-02T01:00:00",
          "2022-11-02T02:00:00",
          "2022-11-02T03:00:00",
          "2022-11-02T04:00:00",
          "2022-11-02T05:00:00",
          "2022-11-02T06:00:00",
          "2022-11-02T07:00:00",
          "2022-11-02T08:00:00",
          "2022-11-02T09:00:00",
          "2022-11-02T10:00:00",
          "2022-11-02T11:00:00",
          "2022-11-02T12:00:00",
          "2022-11-02T13:00:00",
          "2022-11-02T14:00:00",
          "2022-11-02T15:00:00",
          "2022-11-02T16:00:00",
          "2022-11-02T17:00:00",
          "2022-11-02T18:00:00",
          "2022-11-02T19:00:00",
          "2022-11-02T20:00:00",
          "2022-11-02T21:00:00",
          "2022-11-02T22:00:00",
          "2022-11-02T23:00:00",
          "2022-11-03T00:00:00",
          "2022-11-03T01:00:00",
          "2022-11-03T02:00:00",
          "2022-11-03T03:00:00",
          "2022-11-03T04:00:00",
          "2022-11-03T05:00:00",
          "2022-11-03T06:00:00",
          "2022-11-03T07:00:00",
          "2022-11-03T08:00:00",
          "2022-11-03T09:00:00",
          "2022-11-03T10:00:00",
          "2022-11-03T11:00:00",
          "2022-11-03T12:00:00",
          "2022-11-03T13:00:00",
          "2022-11-03T14:00:00",
          "2022-11-03T15:00:00",
          "2022-11-03T16:00:00",
          "2022-11-03T17:00:00",
          "2022-11-03T18:00:00",
          "2022-11-03T19:00:00",
          "2022-11-03T20:00:00",
          "2022-11-03T21:00:00",
          "2022-11-03T22:00:00",
          "2022-11-03T23:00:00",
          "2022-11-04T00:00:00",
          "2022-11-04T01:00:00",
          "2022-11-04T02:00:00",
          "2022-11-04T03:00:00",
          "2022-11-04T04:00:00",
          "2022-11-04T05:00:00",
          "2022-11-04T06:00:00",
          "2022-11-04T07:00:00",
          "2022-11-04T08:00:00",
          "2022-11-04T09:00:00",
          "2022-11-04T10:00:00",
          "2022-11-04T11:00:00",
          "2022-11-04T12:00:00",
          "2022-11-04T13:00:00",
          "2022-11-04T14:00:00",
          "2022-11-04T15:00:00",
          "2022-11-04T16:00:00",
          "2022-11-04T17:00:00",
          "2022-11-04T18:00:00",
          "2022-11-04T19:00:00",
          "2022-11-04T20:00:00",
          "2022-11-04T21:00:00",
          "2022-11-04T22:00:00",
          "2022-11-04T23:00:00",
          "2022-11-05T00:00:00",
          "2022-11-05T01:00:00",
          "2022-11-05T02:00:00",
          "2022-11-05T03:00:00",
          "2022-11-05T04:00:00",
          "2022-11-05T05:00:00",
          "2022-11-05T06:00:00",
          "2022-11-05T07:00:00",
          "2022-11-05T08:00:00",
          "2022-11-05T09:00:00",
          "2022-11-05T10:00:00",
          "2022-11-05T11:00:00",
          "2022-11-05T12:00:00",
          "2022-11-05T13:00:00",
          "2022-11-05T14:00:00",
          "2022-11-05T15:00:00",
          "2022-11-05T16:00:00",
          "2022-11-05T17:00:00",
          "2022-11-05T18:00:00",
          "2022-11-05T19:00:00",
          "2022-11-05T20:00:00",
          "2022-11-05T21:00:00",
          "2022-11-05T22:00:00",
          "2022-11-05T23:00:00",
          "2022-11-06T00:00:00",
          "2022-11-06T01:00:00",
          "2022-11-06T02:00:00",
          "2022-11-06T03:00:00",
          "2022-11-06T04:00:00",
          "2022-11-06T05:00:00",
          "2022-11-06T06:00:00",
          "2022-11-06T07:00:00",
          "2022-11-06T08:00:00",
          "2022-11-06T09:00:00",
          "2022-11-06T10:00:00",
          "2022-11-06T11:00:00",
          "2022-11-06T12:00:00",
          "2022-11-06T13:00:00",
          "2022-11-06T14:00:00",
          "2022-11-06T15:00:00",
          "2022-11-06T16:00:00",
          "2022-11-06T17:00:00",
          "2022-11-06T18:00:00",
          "2022-11-06T19:00:00",
          "2022-11-06T20:00:00",
          "2022-11-06T21:00:00",
          "2022-11-06T22:00:00",
          "2022-11-06T23:00:00",
          "2022-11-07T00:00:00",
          "2022-11-07T01:00:00",
          "2022-11-07T02:00:00",
          "2022-11-07T03:00:00",
          "2022-11-07T04:00:00",
          "2022-11-07T05:00:00",
          "2022-11-07T06:00:00",
          "2022-11-07T07:00:00",
          "2022-11-07T08:00:00",
          "2022-11-07T09:00:00",
          "2022-11-07T10:00:00",
          "2022-11-07T11:00:00",
          "2022-11-07T12:00:00",
          "2022-11-07T13:00:00",
          "2022-11-07T14:00:00",
          "2022-11-07T15:00:00",
          "2022-11-07T16:00:00",
          "2022-11-07T17:00:00",
          "2022-11-07T18:00:00",
          "2022-11-07T19:00:00",
          "2022-11-07T20:00:00",
          "2022-11-07T21:00:00",
          "2022-11-07T22:00:00",
          "2022-11-07T23:00:00",
          "2022-11-08T00:00:00",
          "2022-11-08T01:00:00",
          "2022-11-08T02:00:00",
          "2022-11-08T03:00:00",
          "2022-11-08T04:00:00",
          "2022-11-08T05:00:00",
          "2022-11-08T06:00:00",
          "2022-11-08T07:00:00",
          "2022-11-08T08:00:00",
          "2022-11-08T09:00:00",
          "2022-11-08T10:00:00",
          "2022-11-08T11:00:00",
          "2022-11-08T12:00:00",
          "2022-11-08T13:00:00",
          "2022-11-08T14:00:00",
          "2022-11-08T15:00:00",
          "2022-11-08T16:00:00",
          "2022-11-08T17:00:00",
          "2022-11-08T18:00:00",
          "2022-11-08T19:00:00",
          "2022-11-08T20:00:00",
          "2022-11-08T21:00:00",
          "2022-11-08T22:00:00",
          "2022-11-08T23:00:00",
          "2022-11-09T00:00:00",
          "2022-11-09T01:00:00",
          "2022-11-09T02:00:00",
          "2022-11-09T03:00:00",
          "2022-11-09T04:00:00",
          "2022-11-09T05:00:00",
          "2022-11-09T06:00:00",
          "2022-11-09T07:00:00",
          "2022-11-09T08:00:00",
          "2022-11-09T09:00:00",
          "2022-11-09T10:00:00",
          "2022-11-09T11:00:00",
          "2022-11-09T12:00:00",
          "2022-11-09T13:00:00",
          "2022-11-09T14:00:00",
          "2022-11-09T15:00:00",
          "2022-11-09T16:00:00",
          "2022-11-09T17:00:00",
          "2022-11-09T18:00:00",
          "2022-11-09T19:00:00",
          "2022-11-09T20:00:00",
          "2022-11-09T21:00:00",
          "2022-11-09T22:00:00",
          "2022-11-09T23:00:00",
          "2022-11-10T00:00:00",
          "2022-11-10T01:00:00",
          "2022-11-10T02:00:00",
          "2022-11-10T03:00:00",
          "2022-11-10T04:00:00",
          "2022-11-10T05:00:00",
          "2022-11-10T06:00:00",
          "2022-11-10T07:00:00",
          "2022-11-10T08:00:00",
          "2022-11-10T09:00:00",
          "2022-11-10T10:00:00",
          "2022-11-10T11:00:00",
          "2022-11-10T12:00:00",
          "2022-11-10T13:00:00",
          "2022-11-10T14:00:00",
          "2022-11-10T15:00:00",
          "2022-11-10T16:00:00",
          "2022-11-10T17:00:00",
          "2022-11-10T18:00:00",
          "2022-11-10T19:00:00",
          "2022-11-10T20:00:00",
          "2022-11-10T21:00:00",
          "2022-11-10T22:00:00",
          "2022-11-10T23:00:00",
          "2022-11-11T00:00:00",
          "2022-11-11T01:00:00",
          "2022-11-11T02:00:00",
          "2022-11-11T03:00:00",
          "2022-11-11T04:00:00",
          "2022-11-11T05:00:00",
          "2022-11-11T06:00:00",
          "2022-11-11T07:00:00",
          "2022-11-11T08:00:00",
          "2022-11-11T09:00:00",
          "2022-11-11T10:00:00",
          "2022-11-11T11:00:00",
          "2022-11-11T12:00:00",
          "2022-11-11T13:00:00",
          "2022-11-11T14:00:00",
          "2022-11-11T15:00:00",
          "2022-11-11T16:00:00",
          "2022-11-11T17:00:00",
          "2022-11-11T18:00:00",
          "2022-11-11T19:00:00",
          "2022-11-11T20:00:00",
          "2022-11-11T21:00:00",
          "2022-11-11T22:00:00",
          "2022-11-11T23:00:00",
          "2022-11-12T00:00:00",
          "2022-11-12T01:00:00",
          "2022-11-12T02:00:00",
          "2022-11-12T03:00:00",
          "2022-11-12T04:00:00",
          "2022-11-12T05:00:00",
          "2022-11-12T06:00:00",
          "2022-11-12T07:00:00",
          "2022-11-12T08:00:00",
          "2022-11-12T09:00:00",
          "2022-11-12T10:00:00",
          "2022-11-12T11:00:00",
          "2022-11-12T12:00:00",
          "2022-11-12T13:00:00",
          "2022-11-12T14:00:00",
          "2022-11-12T15:00:00",
          "2022-11-12T16:00:00",
          "2022-11-12T17:00:00",
          "2022-11-12T18:00:00",
          "2022-11-12T19:00:00",
          "2022-11-12T20:00:00",
          "2022-11-12T21:00:00",
          "2022-11-12T22:00:00",
          "2022-11-12T23:00:00",
          "2022-11-13T00:00:00",
          "2022-11-13T01:00:00",
          "2022-11-13T02:00:00",
          "2022-11-13T03:00:00",
          "2022-11-13T04:00:00",
          "2022-11-13T05:00:00",
          "2022-11-13T06:00:00",
          "2022-11-13T07:00:00",
          "2022-11-13T08:00:00",
          "2022-11-13T09:00:00",
          "2022-11-13T10:00:00",
          "2022-11-13T11:00:00",
          "2022-11-13T12:00:00",
          "2022-11-13T13:00:00",
          "2022-11-13T14:00:00",
          "2022-11-13T15:00:00",
          "2022-11-13T16:00:00",
          "2022-11-13T17:00:00",
          "2022-11-13T18:00:00",
          "2022-11-13T19:00:00",
          "2022-11-13T20:00:00",
          "2022-11-13T21:00:00",
          "2022-11-13T22:00:00",
          "2022-11-13T23:00:00",
          "2022-11-14T00:00:00",
          "2022-11-14T01:00:00",
          "2022-11-14T02:00:00",
          "2022-11-14T03:00:00",
          "2022-11-14T04:00:00",
          "2022-11-14T05:00:00",
          "2022-11-14T06:00:00",
          "2022-11-14T07:00:00",
          "2022-11-14T08:00:00",
          "2022-11-14T09:00:00",
          "2022-11-14T10:00:00",
          "2022-11-14T11:00:00",
          "2022-11-14T12:00:00",
          "2022-11-14T13:00:00",
          "2022-11-14T14:00:00",
          "2022-11-14T15:00:00",
          "2022-11-14T16:00:00",
          "2022-11-14T17:00:00",
          "2022-11-14T18:00:00",
          "2022-11-14T19:00:00",
          "2022-11-14T20:00:00",
          "2022-11-14T21:00:00",
          "2022-11-14T22:00:00",
          "2022-11-14T23:00:00",
          "2022-11-15T00:00:00",
          "2022-11-15T01:00:00",
          "2022-11-15T02:00:00",
          "2022-11-15T03:00:00",
          "2022-11-15T04:00:00",
          "2022-11-15T05:00:00",
          "2022-11-15T06:00:00",
          "2022-11-15T07:00:00",
          "2022-11-15T08:00:00",
          "2022-11-15T09:00:00",
          "2022-11-15T10:00:00",
          "2022-11-15T11:00:00",
          "2022-11-15T12:00:00",
          "2022-11-15T13:00:00",
          "2022-11-15T14:00:00",
          "2022-11-15T15:00:00",
          "2022-11-15T16:00:00",
          "2022-11-15T17:00:00",
          "2022-11-15T18:00:00",
          "2022-11-15T19:00:00",
          "2022-11-15T20:00:00",
          "2022-11-15T21:00:00",
          "2022-11-15T22:00:00",
          "2022-11-15T23:00:00",
          "2022-11-16T00:00:00",
          "2022-11-16T01:00:00",
          "2022-11-16T02:00:00",
          "2022-11-16T03:00:00",
          "2022-11-16T04:00:00",
          "2022-11-16T05:00:00",
          "2022-11-16T06:00:00",
          "2022-11-16T07:00:00",
          "2022-11-16T08:00:00",
          "2022-11-16T09:00:00",
          "2022-11-16T10:00:00",
          "2022-11-16T11:00:00",
          "2022-11-16T12:00:00",
          "2022-11-16T13:00:00",
          "2022-11-16T14:00:00",
          "2022-11-16T15:00:00",
          "2022-11-16T16:00:00",
          "2022-11-16T17:00:00",
          "2022-11-16T18:00:00",
          "2022-11-16T19:00:00",
          "2022-11-16T20:00:00",
          "2022-11-16T21:00:00",
          "2022-11-16T22:00:00",
          "2022-11-16T23:00:00",
          "2022-11-17T00:00:00",
          "2022-11-17T01:00:00",
          "2022-11-17T02:00:00",
          "2022-11-17T03:00:00",
          "2022-11-17T04:00:00",
          "2022-11-17T05:00:00",
          "2022-11-17T06:00:00",
          "2022-11-17T07:00:00",
          "2022-11-17T08:00:00",
          "2022-11-17T09:00:00",
          "2022-11-17T10:00:00",
          "2022-11-17T11:00:00",
          "2022-11-17T12:00:00",
          "2022-11-17T13:00:00",
          "2022-11-17T14:00:00",
          "2022-11-17T15:00:00",
          "2022-11-17T16:00:00",
          "2022-11-17T17:00:00",
          "2022-11-17T18:00:00",
          "2022-11-17T19:00:00",
          "2022-11-17T20:00:00",
          "2022-11-17T21:00:00",
          "2022-11-17T22:00:00",
          "2022-11-17T23:00:00",
          "2022-11-18T00:00:00"
         ],
         "xaxis": "x",
         "y": [
          26,
          5,
          3,
          2,
          1,
          3,
          17,
          50,
          52,
          68,
          112,
          116,
          191,
          163,
          217,
          204,
          197,
          188,
          214,
          174,
          143,
          77,
          72,
          41,
          25,
          18,
          6,
          1,
          1,
          2,
          5,
          22,
          39,
          40,
          97,
          153,
          189,
          185,
          217,
          269,
          229,
          182,
          164,
          106,
          83,
          81,
          69,
          47,
          35,
          8,
          6,
          4,
          2,
          2,
          7,
          21,
          20,
          67,
          108,
          124,
          201,
          136,
          164,
          189,
          154,
          107,
          85,
          65,
          33,
          33,
          29,
          18,
          10,
          2,
          1,
          0,
          1,
          3,
          21,
          59,
          68,
          80,
          80,
          120,
          163,
          172,
          194,
          183,
          190,
          150,
          149,
          109,
          53,
          65,
          39,
          19,
          7,
          2,
          1,
          2,
          1,
          1,
          19,
          59,
          70,
          105,
          92,
          135,
          151,
          179,
          176,
          184,
          207,
          152,
          202,
          196,
          121,
          116,
          113,
          27,
          9,
          1,
          0,
          0,
          1,
          2,
          11,
          57,
          77,
          98,
          96,
          131,
          163,
          143,
          172,
          191,
          146,
          129,
          168,
          163,
          96,
          114,
          84,
          31,
          12,
          3,
          1,
          1,
          2,
          5,
          15,
          53,
          73,
          92,
          107,
          152,
          174,
          184,
          181,
          213,
          177,
          144,
          187,
          175,
          97,
          109,
          89,
          96,
          81,
          4,
          2,
          1,
          2,
          2,
          15,
          49,
          53,
          99,
          119,
          150,
          189,
          145,
          192,
          197,
          182,
          185,
          208,
          157,
          106,
          127,
          81,
          64,
          36,
          6,
          3,
          4,
          1,
          2,
          3,
          17,
          30,
          69,
          100,
          137,
          189,
          195,
          191,
          209,
          197,
          206,
          141,
          114,
          96,
          81,
          66,
          63,
          44,
          17,
          6,
          2,
          2,
          2,
          2,
          19,
          18,
          46,
          83,
          115,
          186,
          184,
          172,
          200,
          204,
          187,
          106,
          80,
          42,
          49,
          38,
          24,
          7,
          4,
          4,
          1,
          3,
          5,
          17,
          51,
          54,
          78,
          78,
          87,
          107,
          142,
          178,
          172,
          114,
          111,
          126,
          120,
          70,
          56,
          34,
          18,
          4,
          3,
          1,
          0,
          0,
          3,
          10,
          34,
          51,
          89,
          98,
          137,
          174,
          150,
          192,
          171,
          186,
          144,
          163,
          138,
          73,
          114,
          94,
          29,
          12,
          2,
          0,
          3,
          2,
          1,
          16,
          57,
          60,
          88,
          104,
          117,
          163,
          153,
          158,
          199,
          133,
          166,
          175,
          154,
          89,
          92,
          87,
          43,
          18,
          7,
          2,
          1,
          3,
          3,
          19,
          67,
          60,
          101,
          121,
          155,
          176,
          168,
          219,
          232,
          190,
          192,
          189,
          134,
          112,
          119,
          93,
          35,
          20,
          8,
          4,
          3,
          0,
          12,
          18,
          58,
          72,
          96,
          122,
          149,
          187,
          149,
          204,
          216,
          173,
          226,
          198,
          165,
          160,
          124,
          80,
          61,
          36,
          16,
          3,
          3,
          0,
          2,
          6,
          18,
          41,
          73,
          115,
          158,
          188,
          180,
          221,
          261,
          188,
          230,
          206,
          123,
          129,
          88,
          53,
          76,
          44,
          30,
          2,
          2,
          3,
          4,
          6,
          10,
          7,
          21,
          46,
          40,
          71,
          74,
          65,
          66,
          42,
          35,
          33,
          28,
          32,
          26,
          20,
          16,
          2,
          3,
          1,
          2,
          2,
          7,
          21,
          55,
          90,
          94,
          133,
          171,
          162,
          188,
          208,
          195,
          197,
          150,
          120,
          149,
          94,
          55,
          47,
          19,
          6,
          5,
          1,
          0,
          3,
          5,
          18,
          55,
          84,
          108,
          140,
          154,
          142,
          150,
          180,
          130,
          210,
          180,
          107,
          107,
          97,
          66,
          75,
          20,
          17,
          3,
          0,
          0,
          2,
          1,
          21,
          54,
          78,
          104,
          126,
          136,
          122,
          118,
          157,
          150,
          169,
          192,
          142,
          118,
          80,
          129,
          155,
          37,
          20,
          4,
          2,
          0,
          1,
          8,
          13,
          55,
          80,
          100,
          152,
          148,
          137,
          180,
          199,
          178,
          207,
          176,
          153,
          118,
          113,
          100,
          153,
          43,
          30,
          8,
          2,
          2,
          3,
          6,
          11,
          32,
          60,
          97,
          119,
          154,
          173,
          169,
          167,
          175,
          166,
          150,
          126,
          135,
          100,
          78,
          75,
          46,
          39,
          21,
          2,
          2,
          2,
          4,
          11,
          16,
          32,
          75,
          112,
          161,
          193,
          246,
          216,
          234,
          268,
          211,
          144,
          147,
          100,
          75,
          65,
          47,
          40,
          33,
          4,
          3,
          2,
          3,
          6,
          12,
          37,
          59,
          83,
          172,
          150,
          168,
          160,
          186,
          229,
          131,
          65,
          58,
          43,
          34,
          25,
          11,
          4,
          0,
          3,
          1,
          0,
          6,
          10,
          30,
          46,
          57,
          100,
          73,
          116,
          97,
          99,
          134,
          123,
          135,
          82,
          102,
          100,
          96,
          39,
          27,
          8,
          1,
          0,
          0,
          1,
          3,
          6,
          37,
          54,
          81,
          108,
          99,
          108,
          119,
          130,
          108,
          134,
          119,
          100,
          87,
          58,
          51,
          54,
          24,
          16,
          6,
          1,
          0,
          1,
          4,
          11,
          48,
          59,
          81,
          89,
          99,
          85,
          77,
          78,
          106,
          87,
          110,
          106,
          125,
          83,
          75,
          97,
          48,
          11,
          7,
          1,
          1,
          1,
          4,
          11,
          43,
          65,
          68,
          91,
          101,
          90,
          118,
          107,
          165,
          130,
          117,
          82,
          77,
          69,
          106,
          88,
          29,
          17
         ],
         "yaxis": "y"
        },
        {
         "line": {
          "color": "red",
          "width": 2
         },
         "marker": {
          "size": 10
         },
         "mode": "markers",
         "name": "Actual",
         "type": "scatter",
         "x": [
          "2022-11-18T00:00:00"
         ],
         "y": [
          17
         ]
        },
        {
         "line": {
          "color": "green",
          "width": 2
         },
         "marker": {
          "size": 10
         },
         "mode": "markers",
         "name": "Prediction",
         "type": "scatter",
         "x": [
          "2022-11-18T00:00:00"
         ],
         "y": [
          26.860247446926056
         ]
        }
       ],
       "layout": {
        "legend": {
         "tracegroupgap": 0
        },
        "template": {
         "data": {
          "bar": [
           {
            "error_x": {
             "color": "#2a3f5f"
            },
            "error_y": {
             "color": "#2a3f5f"
            },
            "marker": {
             "line": {
              "color": "#E5ECF6",
              "width": 0.5
             },
             "pattern": {
              "fillmode": "overlay",
              "size": 10,
              "solidity": 0.2
             }
            },
            "type": "bar"
           }
          ],
          "barpolar": [
           {
            "marker": {
             "line": {
              "color": "#E5ECF6",
              "width": 0.5
             },
             "pattern": {
              "fillmode": "overlay",
              "size": 10,
              "solidity": 0.2
             }
            },
            "type": "barpolar"
           }
          ],
          "carpet": [
           {
            "aaxis": {
             "endlinecolor": "#2a3f5f",
             "gridcolor": "white",
             "linecolor": "white",
             "minorgridcolor": "white",
             "startlinecolor": "#2a3f5f"
            },
            "baxis": {
             "endlinecolor": "#2a3f5f",
             "gridcolor": "white",
             "linecolor": "white",
             "minorgridcolor": "white",
             "startlinecolor": "#2a3f5f"
            },
            "type": "carpet"
           }
          ],
          "choropleth": [
           {
            "colorbar": {
             "outlinewidth": 0,
             "ticks": ""
            },
            "type": "choropleth"
           }
          ],
          "contour": [
           {
            "colorbar": {
             "outlinewidth": 0,
             "ticks": ""
            },
            "colorscale": [
             [
              0,
              "#0d0887"
             ],
             [
              0.1111111111111111,
              "#46039f"
             ],
             [
              0.2222222222222222,
              "#7201a8"
             ],
             [
              0.3333333333333333,
              "#9c179e"
             ],
             [
              0.4444444444444444,
              "#bd3786"
             ],
             [
              0.5555555555555556,
              "#d8576b"
             ],
             [
              0.6666666666666666,
              "#ed7953"
             ],
             [
              0.7777777777777778,
              "#fb9f3a"
             ],
             [
              0.8888888888888888,
              "#fdca26"
             ],
             [
              1,
              "#f0f921"
             ]
            ],
            "type": "contour"
           }
          ],
          "contourcarpet": [
           {
            "colorbar": {
             "outlinewidth": 0,
             "ticks": ""
            },
            "type": "contourcarpet"
           }
          ],
          "heatmap": [
           {
            "colorbar": {
             "outlinewidth": 0,
             "ticks": ""
            },
            "colorscale": [
             [
              0,
              "#0d0887"
             ],
             [
              0.1111111111111111,
              "#46039f"
             ],
             [
              0.2222222222222222,
              "#7201a8"
             ],
             [
              0.3333333333333333,
              "#9c179e"
             ],
             [
              0.4444444444444444,
              "#bd3786"
             ],
             [
              0.5555555555555556,
              "#d8576b"
             ],
             [
              0.6666666666666666,
              "#ed7953"
             ],
             [
              0.7777777777777778,
              "#fb9f3a"
             ],
             [
              0.8888888888888888,
              "#fdca26"
             ],
             [
              1,
              "#f0f921"
             ]
            ],
            "type": "heatmap"
           }
          ],
          "heatmapgl": [
           {
            "colorbar": {
             "outlinewidth": 0,
             "ticks": ""
            },
            "colorscale": [
             [
              0,
              "#0d0887"
             ],
             [
              0.1111111111111111,
              "#46039f"
             ],
             [
              0.2222222222222222,
              "#7201a8"
             ],
             [
              0.3333333333333333,
              "#9c179e"
             ],
             [
              0.4444444444444444,
              "#bd3786"
             ],
             [
              0.5555555555555556,
              "#d8576b"
             ],
             [
              0.6666666666666666,
              "#ed7953"
             ],
             [
              0.7777777777777778,
              "#fb9f3a"
             ],
             [
              0.8888888888888888,
              "#fdca26"
             ],
             [
              1,
              "#f0f921"
             ]
            ],
            "type": "heatmapgl"
           }
          ],
          "histogram": [
           {
            "marker": {
             "pattern": {
              "fillmode": "overlay",
              "size": 10,
              "solidity": 0.2
             }
            },
            "type": "histogram"
           }
          ],
          "histogram2d": [
           {
            "colorbar": {
             "outlinewidth": 0,
             "ticks": ""
            },
            "colorscale": [
             [
              0,
              "#0d0887"
             ],
             [
              0.1111111111111111,
              "#46039f"
             ],
             [
              0.2222222222222222,
              "#7201a8"
             ],
             [
              0.3333333333333333,
              "#9c179e"
             ],
             [
              0.4444444444444444,
              "#bd3786"
             ],
             [
              0.5555555555555556,
              "#d8576b"
             ],
             [
              0.6666666666666666,
              "#ed7953"
             ],
             [
              0.7777777777777778,
              "#fb9f3a"
             ],
             [
              0.8888888888888888,
              "#fdca26"
             ],
             [
              1,
              "#f0f921"
             ]
            ],
            "type": "histogram2d"
           }
          ],
          "histogram2dcontour": [
           {
            "colorbar": {
             "outlinewidth": 0,
             "ticks": ""
            },
            "colorscale": [
             [
              0,
              "#0d0887"
             ],
             [
              0.1111111111111111,
              "#46039f"
             ],
             [
              0.2222222222222222,
              "#7201a8"
             ],
             [
              0.3333333333333333,
              "#9c179e"
             ],
             [
              0.4444444444444444,
              "#bd3786"
             ],
             [
              0.5555555555555556,
              "#d8576b"
             ],
             [
              0.6666666666666666,
              "#ed7953"
             ],
             [
              0.7777777777777778,
              "#fb9f3a"
             ],
             [
              0.8888888888888888,
              "#fdca26"
             ],
             [
              1,
              "#f0f921"
             ]
            ],
            "type": "histogram2dcontour"
           }
          ],
          "mesh3d": [
           {
            "colorbar": {
             "outlinewidth": 0,
             "ticks": ""
            },
            "type": "mesh3d"
           }
          ],
          "parcoords": [
           {
            "line": {
             "colorbar": {
              "outlinewidth": 0,
              "ticks": ""
             }
            },
            "type": "parcoords"
           }
          ],
          "pie": [
           {
            "automargin": true,
            "type": "pie"
           }
          ],
          "scatter": [
           {
            "fillpattern": {
             "fillmode": "overlay",
             "size": 10,
             "solidity": 0.2
            },
            "type": "scatter"
           }
          ],
          "scatter3d": [
           {
            "line": {
             "colorbar": {
              "outlinewidth": 0,
              "ticks": ""
             }
            },
            "marker": {
             "colorbar": {
              "outlinewidth": 0,
              "ticks": ""
             }
            },
            "type": "scatter3d"
           }
          ],
          "scattercarpet": [
           {
            "marker": {
             "colorbar": {
              "outlinewidth": 0,
              "ticks": ""
             }
            },
            "type": "scattercarpet"
           }
          ],
          "scattergeo": [
           {
            "marker": {
             "colorbar": {
              "outlinewidth": 0,
              "ticks": ""
             }
            },
            "type": "scattergeo"
           }
          ],
          "scattergl": [
           {
            "marker": {
             "colorbar": {
              "outlinewidth": 0,
              "ticks": ""
             }
            },
            "type": "scattergl"
           }
          ],
          "scattermapbox": [
           {
            "marker": {
             "colorbar": {
              "outlinewidth": 0,
              "ticks": ""
             }
            },
            "type": "scattermapbox"
           }
          ],
          "scatterpolar": [
           {
            "marker": {
             "colorbar": {
              "outlinewidth": 0,
              "ticks": ""
             }
            },
            "type": "scatterpolar"
           }
          ],
          "scatterpolargl": [
           {
            "marker": {
             "colorbar": {
              "outlinewidth": 0,
              "ticks": ""
             }
            },
            "type": "scatterpolargl"
           }
          ],
          "scatterternary": [
           {
            "marker": {
             "colorbar": {
              "outlinewidth": 0,
              "ticks": ""
             }
            },
            "type": "scatterternary"
           }
          ],
          "surface": [
           {
            "colorbar": {
             "outlinewidth": 0,
             "ticks": ""
            },
            "colorscale": [
             [
              0,
              "#0d0887"
             ],
             [
              0.1111111111111111,
              "#46039f"
             ],
             [
              0.2222222222222222,
              "#7201a8"
             ],
             [
              0.3333333333333333,
              "#9c179e"
             ],
             [
              0.4444444444444444,
              "#bd3786"
             ],
             [
              0.5555555555555556,
              "#d8576b"
             ],
             [
              0.6666666666666666,
              "#ed7953"
             ],
             [
              0.7777777777777778,
              "#fb9f3a"
             ],
             [
              0.8888888888888888,
              "#fdca26"
             ],
             [
              1,
              "#f0f921"
             ]
            ],
            "type": "surface"
           }
          ],
          "table": [
           {
            "cells": {
             "fill": {
              "color": "#EBF0F8"
             },
             "line": {
              "color": "white"
             }
            },
            "header": {
             "fill": {
              "color": "#C8D4E3"
             },
             "line": {
              "color": "white"
             }
            },
            "type": "table"
           }
          ]
         },
         "layout": {
          "annotationdefaults": {
           "arrowcolor": "#2a3f5f",
           "arrowhead": 0,
           "arrowwidth": 1
          },
          "autotypenumbers": "strict",
          "coloraxis": {
           "colorbar": {
            "outlinewidth": 0,
            "ticks": ""
           }
          },
          "colorscale": {
           "diverging": [
            [
             0,
             "#8e0152"
            ],
            [
             0.1,
             "#c51b7d"
            ],
            [
             0.2,
             "#de77ae"
            ],
            [
             0.3,
             "#f1b6da"
            ],
            [
             0.4,
             "#fde0ef"
            ],
            [
             0.5,
             "#f7f7f7"
            ],
            [
             0.6,
             "#e6f5d0"
            ],
            [
             0.7,
             "#b8e186"
            ],
            [
             0.8,
             "#7fbc41"
            ],
            [
             0.9,
             "#4d9221"
            ],
            [
             1,
             "#276419"
            ]
           ],
           "sequential": [
            [
             0,
             "#0d0887"
            ],
            [
             0.1111111111111111,
             "#46039f"
            ],
            [
             0.2222222222222222,
             "#7201a8"
            ],
            [
             0.3333333333333333,
             "#9c179e"
            ],
            [
             0.4444444444444444,
             "#bd3786"
            ],
            [
             0.5555555555555556,
             "#d8576b"
            ],
            [
             0.6666666666666666,
             "#ed7953"
            ],
            [
             0.7777777777777778,
             "#fb9f3a"
            ],
            [
             0.8888888888888888,
             "#fdca26"
            ],
            [
             1,
             "#f0f921"
            ]
           ],
           "sequentialminus": [
            [
             0,
             "#0d0887"
            ],
            [
             0.1111111111111111,
             "#46039f"
            ],
            [
             0.2222222222222222,
             "#7201a8"
            ],
            [
             0.3333333333333333,
             "#9c179e"
            ],
            [
             0.4444444444444444,
             "#bd3786"
            ],
            [
             0.5555555555555556,
             "#d8576b"
            ],
            [
             0.6666666666666666,
             "#ed7953"
            ],
            [
             0.7777777777777778,
             "#fb9f3a"
            ],
            [
             0.8888888888888888,
             "#fdca26"
            ],
            [
             1,
             "#f0f921"
            ]
           ]
          },
          "colorway": [
           "#636efa",
           "#EF553B",
           "#00cc96",
           "#ab63fa",
           "#FFA15A",
           "#19d3f3",
           "#FF6692",
           "#B6E880",
           "#FF97FF",
           "#FECB52"
          ],
          "font": {
           "color": "#2a3f5f"
          },
          "geo": {
           "bgcolor": "white",
           "lakecolor": "white",
           "landcolor": "#E5ECF6",
           "showlakes": true,
           "showland": true,
           "subunitcolor": "white"
          },
          "hoverlabel": {
           "align": "left"
          },
          "hovermode": "closest",
          "mapbox": {
           "style": "light"
          },
          "paper_bgcolor": "white",
          "plot_bgcolor": "#E5ECF6",
          "polar": {
           "angularaxis": {
            "gridcolor": "white",
            "linecolor": "white",
            "ticks": ""
           },
           "bgcolor": "#E5ECF6",
           "radialaxis": {
            "gridcolor": "white",
            "linecolor": "white",
            "ticks": ""
           }
          },
          "scene": {
           "xaxis": {
            "backgroundcolor": "#E5ECF6",
            "gridcolor": "white",
            "gridwidth": 2,
            "linecolor": "white",
            "showbackground": true,
            "ticks": "",
            "zerolinecolor": "white"
           },
           "yaxis": {
            "backgroundcolor": "#E5ECF6",
            "gridcolor": "white",
            "gridwidth": 2,
            "linecolor": "white",
            "showbackground": true,
            "ticks": "",
            "zerolinecolor": "white"
           },
           "zaxis": {
            "backgroundcolor": "#E5ECF6",
            "gridcolor": "white",
            "gridwidth": 2,
            "linecolor": "white",
            "showbackground": true,
            "ticks": "",
            "zerolinecolor": "white"
           }
          },
          "shapedefaults": {
           "line": {
            "color": "#2a3f5f"
           }
          },
          "ternary": {
           "aaxis": {
            "gridcolor": "white",
            "linecolor": "white",
            "ticks": ""
           },
           "baxis": {
            "gridcolor": "white",
            "linecolor": "white",
            "ticks": ""
           },
           "bgcolor": "#E5ECF6",
           "caxis": {
            "gridcolor": "white",
            "linecolor": "white",
            "ticks": ""
           }
          },
          "title": {
           "x": 0.05
          },
          "xaxis": {
           "automargin": true,
           "gridcolor": "white",
           "linecolor": "white",
           "ticks": "",
           "title": {
            "standoff": 15
           },
           "zerolinecolor": "white",
           "zerolinewidth": 2
          },
          "yaxis": {
           "automargin": true,
           "gridcolor": "white",
           "linecolor": "white",
           "ticks": "",
           "title": {
            "standoff": 15
           },
           "zerolinecolor": "white",
           "zerolinewidth": 2
          }
         }
        },
        "title": {
         "text": "Pickup Hour: 2022-11-18 00:00:00, Location_ID: 43, Example ID: 2000"
        },
        "xaxis": {
         "anchor": "y",
         "domain": [
          0,
          1
         ],
         "title": {
          "text": "Time"
         }
        },
        "yaxis": {
         "anchor": "x",
         "domain": [
          0,
          1
         ],
         "title": {
          "text": "Value"
         }
        }
       }
      }
     },
     "metadata": {},
     "output_type": "display_data"
    }
   ],
   "source": [
    "plot.plot_one_sample(features=X_test, targets=y_test, predictions=pd.Series(predictions), example_id=2000)"
   ]
  }
 ],
 "metadata": {
  "kernelspec": {
   "display_name": ".venv",
   "language": "python",
   "name": "python3"
  },
  "language_info": {
   "codemirror_mode": {
    "name": "ipython",
    "version": 3
   },
   "file_extension": ".py",
   "mimetype": "text/x-python",
   "name": "python",
   "nbconvert_exporter": "python",
   "pygments_lexer": "ipython3",
   "version": "3.9.6"
  },
  "orig_nbformat": 4,
  "vscode": {
   "interpreter": {
    "hash": "3adc933a9ef3d8ff20a02e749cb04e227bd9b92585087376f2b3d0c57d9ee0eb"
   }
  }
 },
 "nbformat": 4,
 "nbformat_minor": 2
}
